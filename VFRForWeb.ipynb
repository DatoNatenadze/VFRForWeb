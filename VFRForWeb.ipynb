{
 "cells": [
  {
   "cell_type": "markdown",
   "metadata": {
    "colab_type": "text",
    "id": "hRTa3Ee15WsJ"
   },
   "source": [
    "# VFRForWeb"
   ]
  },
  {
   "cell_type": "markdown",
   "metadata": {},
   "source": [
    "Add required imports such as Tensorflow 2.0, Tensorflow Datasets, matplotlib, imgaug, etc."
   ]
  },
  {
   "cell_type": "code",
   "execution_count": 1,
   "metadata": {
    "colab": {},
    "colab_type": "code",
    "id": "iBMcobPHdD8O"
   },
   "outputs": [],
   "source": [
    "from __future__ import absolute_import, division, print_function, unicode_literals\n",
    "\n",
    "import os\n",
    "\n",
    "import numpy as np\n",
    "\n",
    "import matplotlib.pyplot as plt"
   ]
  },
  {
   "cell_type": "code",
   "execution_count": 2,
   "metadata": {
    "colab": {},
    "colab_type": "code",
    "id": "TqOt6Sv7AsMi"
   },
   "outputs": [
    {
     "name": "stdout",
     "output_type": "stream",
     "text": [
      "Tensorflow version 2.0.0-alpha0\n",
      "Eager execution enabled: True\n"
     ]
    }
   ],
   "source": [
    "# !pip install tensorflow-gpu==2.0.0-alpha0\n",
    "import tensorflow as tf\n",
    "\n",
    "keras = tf.keras\n",
    "print(\"Tensorflow version\", tf.__version__)\n",
    "print(\"Eager execution enabled:\", tf.executing_eagerly())"
   ]
  },
  {
   "cell_type": "markdown",
   "metadata": {
    "colab_type": "text",
    "id": "v77rlkCKW0IJ"
   },
   "source": [
    "## Data preprocessing"
   ]
  },
  {
   "cell_type": "markdown",
   "metadata": {
    "colab_type": "text",
    "id": "vHP9qMJxt2oz"
   },
   "source": [
    "Dataset is downloaded and managed via the Tensorflow Datasets, for which a contribution was made to have AdobeVFR available in the API."
   ]
  },
  {
   "cell_type": "markdown",
   "metadata": {},
   "source": [
    "TF Datasets, as it has been developed locally, is loded from disk instead of from conda / pip."
   ]
  },
  {
   "cell_type": "code",
   "execution_count": 3,
   "metadata": {
    "colab": {},
    "colab_type": "code",
    "id": "KVh7rDVAuW8Y"
   },
   "outputs": [
    {
     "name": "stdout",
     "output_type": "stream",
     "text": [
      "Loading AdobeVFR\n"
     ]
    }
   ],
   "source": [
    "import sys\n",
    "sys.path.insert(0, '/data2/python_packages/tf_datasets')\n",
    "import tensorflow_datasets as tfds"
   ]
  },
  {
   "cell_type": "markdown",
   "metadata": {
    "colab_type": "text",
    "id": "Nsoic6bGuwQ-"
   },
   "source": [
    "The `tfds.load` method downloads and caches the data, and returns a `tf.data.Dataset` object, which can be used to shuffle, batch and repeat images from each dataset for training and evaluation..\n",
    "\n",
    "The import of AdobeVFR made to Tensorflow Datasets does not have any splits except for training, therefore the entire dataset will be loaded and splitted manually in 80% training, 20% validation."
   ]
  },
  {
   "cell_type": "code",
   "execution_count": 4,
   "metadata": {
    "colab": {},
    "colab_type": "code",
    "id": "ro4oYaEmxe4r"
   },
   "outputs": [
    {
     "name": "stdout",
     "output_type": "stream",
     "text": [
      "Getting labels from fontlist.txt\n"
     ]
    }
   ],
   "source": [
    "# SPLIT_WEIGHTS = (8, 1, 1)\n",
    "SPLIT_WEIGHTS = (8, 2)\n",
    "splits = tfds.Split.TRAIN.subsplit(weighted=SPLIT_WEIGHTS)\n",
    "\n",
    "# dl_config = tfds.download.DownloadConfig(manual_dir='/home/siadl/tensorflow_datasets/downloads/manual/')\n",
    "# (raw_train, raw_validation, raw_test), metadata = tfds.load(\n",
    "#   'image_label_folder',\n",
    "#   split=list(splits),\n",
    "#   with_info=True,\n",
    "#   as_supervised=True,\n",
    "#   builder_kwargs=dict(dataset_name='adobevfr'),\n",
    "#   download_and_prepare_kwargs=dict(download_config=dl_config),\n",
    "# )\n",
    "\n",
    "# NUM_OF_CLASSES = metadata.features['label'].num_classes\n",
    "# print(\"There are\", NUM_OF_CLASSES, \"font classes.\")\n",
    "\n",
    "# # (raw_train, raw_validation, raw_test), metadata = tfds.load(\n",
    "# #     'cats_vs_dogs', split=list(splits),\n",
    "# #     with_info=True, as_supervised=True)\n",
    "\n",
    "\n",
    "# SPLIT_WEIGHTS = (8, 2)\n",
    "# splits = tfds.Split.TRAIN.subsplit(weighted=SPLIT_WEIGHTS)\n",
    "(raw_train, raw_validation), metadata = tfds.load(name=\"adobe_vfr\", \n",
    "                                                    with_info=True,\n",
    "                                                    split=list(splits),\n",
    "                                                    as_supervised=True)\n",
    "\n",
    "# raw_data, metadata = tfds.load(name=\"adobe_vfr\", \n",
    "#                                 with_info=True,\n",
    "#                                split=\"train\",\n",
    "# #                                 split=list(splits),\n",
    "#                                 as_supervised=True)"
   ]
  },
  {
   "cell_type": "code",
   "execution_count": 5,
   "metadata": {},
   "outputs": [],
   "source": [
    "# print(raw_data)\n",
    "# NUM_CLASSES = metadata.features[\"label\"].num_classes\n",
    "# train_split = tf.cast(SPLIT_WEIGHTS[0] / 10 * IMAGES_PER_FONT, tf.int64)\n",
    "# val_split = tf.cast(SPLIT_WEIGHTS[1] / 10 * IMAGES_PER_FONT, tf.int64)\n",
    "# IMAGES_PER_FONT = 1000\n",
    "\n",
    "# raw_train = raw_data.take(train_split)\n",
    "# raw_validation = raw_data.skip(train_split).take(val_split)\n",
    "# print(raw_train)\n",
    "# print(raw_validation)\n",
    "# print(\"There are\", NUM_CLASSES, \"font classes.\")\n",
    "# for i in range(IMAGES_PER_FONT, NUM_CLASSES * IMAGES_PER_FONT, IMAGES_PER_FONT):\n",
    "#     raw_train = raw_train.concatenate(raw_data.skip(i).take(train_split))\n",
    "#     raw_validation = raw_val.concatenate(raw_data.skip(i + train_split).take(val_split))\n",
    "#     print(i)\n",
    "#     print(train_split)\n",
    "#     print(val_split)\n",
    "\n",
    "# i = 0\n",
    "# for image, label in raw_data.take(1000):\n",
    "#     print(i, label)\n",
    "#     i += 1"
   ]
  },
  {
   "cell_type": "markdown",
   "metadata": {
    "colab_type": "text",
    "id": "o29EfE-p0g5X"
   },
   "source": [
    "The resulting `tf.data.Dataset` objects contain `(image, label)` pairs. Where the images have variable shape and 3 channels, and the label is a scalar."
   ]
  },
  {
   "cell_type": "code",
   "execution_count": 6,
   "metadata": {
    "colab": {
     "height": 74
    },
    "colab_type": "code",
    "id": "GIys1_zY1S9b",
    "outputId": "39ff0c0c-1c5a-4f49-e571-d0b66e65253e"
   },
   "outputs": [
    {
     "name": "stdout",
     "output_type": "stream",
     "text": [
      "<_OptionsDataset shapes: ((None, None, 3), ()), types: (tf.uint8, tf.int64)>\n",
      "<_OptionsDataset shapes: ((None, None, 3), ()), types: (tf.uint8, tf.int64)>\n"
     ]
    }
   ],
   "source": [
    "print(raw_train)\n",
    "print(raw_validation)\n",
    "# print(raw_test)"
   ]
  },
  {
   "cell_type": "markdown",
   "metadata": {
    "colab_type": "text",
    "id": "yO1Q2JaW5sIy"
   },
   "source": [
    "Create the imgaug augmentator and show two random unaugmented images from the training set."
   ]
  },
  {
   "cell_type": "code",
   "execution_count": 7,
   "metadata": {
    "colab": {
     "height": 561
    },
    "colab_type": "code",
    "id": "K5BeQyKThC_Y",
    "outputId": "1aab9539-a2a7-40de-ccd9-47b730c52336"
   },
   "outputs": [
    {
     "data": {
      "image/png": "[encoded data removed]",
      "text/plain": [
       "<Figure size 432x288 with 1 Axes>"
      ]
     },
     "metadata": {
      "needs_background": "light"
     },
     "output_type": "display_data"
    },
    {
     "data": {
      "image/png": "[encoded data removed]",
      "text/plain": [
       "<Figure size 432x288 with 1 Axes>"
      ]
     },
     "metadata": {
      "needs_background": "light"
     },
     "output_type": "display_data"
    }
   ],
   "source": [
    "import imageio\n",
    "import imgaug as ia\n",
    "from matplotlib import pyplot\n",
    "from imgaug import augmenters as iaa\n",
    "import random\n",
    "%matplotlib inline\n",
    "\n",
    "seq = iaa.Sequential([\n",
    "        iaa.AdditiveGaussianNoise(scale=(0.03, 128)),\n",
    "        iaa.GaussianBlur(sigma=1),\n",
    "#        iaa.Affine(rotate=(-10, 10)),\n",
    "        iaa.PerspectiveTransform(0.025),\n",
    "#         iaa.Invert(p=1),\n",
    "#         iaa.Resize({\"height\":400, \"width\":700}),\n",
    "        iaa.Resize({\"height\":105, \"width\":\"keep-aspect-ratio\"}),\n",
    "        iaa.CropToFixedSize(105, 105),\n",
    "        iaa.Resize({\"height\":105, \"width\":105}),\n",
    "#        iaa.CropToFixedSize(height=320,width=320)\n",
    "])\n",
    "\n",
    "NUM_CLASSES = metadata.features['label'].num_classes\n",
    "\n",
    "get_label_name = metadata.features['label'].int2str\n",
    "# print(metadata.features['label'].num_classes)\n",
    "# print(metadata.features['label'].names)\n",
    "\n",
    "for image, label in raw_train.skip(random.randint(0, NUM_CLASSES * 1000 - 10)).take(2):\n",
    "#   image = image.numpy()\n",
    "#   print(image.dtype)\n",
    "#   image_aug = seq.augment_image(image)\n",
    "#   image = tf.cast(image, tf.float32)\n",
    "#   image = (image/127.5) - 1\n",
    "#   image = tf.image.resize(image, (IMG_SIZE, IMG_SIZE))\n",
    "  plt.figure()\n",
    "  plt.imshow(image)\n",
    "  plt.title(get_label_name(label))\n",
    "\n",
    "# for image, label in raw_test.skip(2000).take(2):\n",
    "#   image = image.numpy().squeeze()\n",
    "# #   print(image)\n",
    "# #   image_aug = seq.augment_image(image)\n",
    "# #   image = tf.cast(image, tf.float32)\n",
    "# #   image = (image/127.5) - 1\n",
    "# #   image = tf.image.resize(image, (IMG_SIZE, IMG_SIZE))\n",
    "#   plt.figure()\n",
    "#   plt.imshow(image, cmap=plt.get_cmap('gray'), vmin=0, vmax=255)\n",
    "#   plt.title(get_label_name(label))\n",
    "\n",
    "\n",
    "    \n",
    "def augment_images(image):\n",
    "#     print(image)\n",
    "#     np_image = image.numpy()\n",
    "#     print(\"original type\", type(image))\n",
    "#     print(\"new type\", type(np_image))\n",
    "#     print(np_image)\n",
    "    image_aug = seq.augment_image(image)\n",
    "#     print(image_aug.dtype)\n",
    "    return image_aug"
   ]
  },
  {
   "cell_type": "markdown",
   "metadata": {
    "colab_type": "text",
    "id": "wvidPx6jeFzf"
   },
   "source": [
    "### Augment the images\n",
    "\n",
    "Using [imgaug](https://github.com/aleju/imgaug) image augmentation library."
   ]
  },
  {
   "cell_type": "code",
   "execution_count": 8,
   "metadata": {
    "colab": {},
    "colab_type": "code",
    "id": "y3PM6GVHcC31"
   },
   "outputs": [],
   "source": [
    "IMG_SIZE = 105 # All images will be resized to 160x160\n",
    "\n",
    "def format_example(image, label):\n",
    "#   tf.bitcast(tf.cast(image, tf.int8), tf.uint8)\n",
    "  image = tf.cast(image, tf.uint8)\n",
    "#   print(type(image))\n",
    "#   image = (image/127.5) - 1\n",
    "#   print(type(image))\n",
    "#   image = tf.image.resize(image, (IMG_SIZE, IMG_SIZE))\n",
    "  image = tf.image.convert_image_dtype(image, tf.uint8)\n",
    "  image = tf.py_function(func=augment_images, inp=[image], Tout=tf.uint8)\n",
    "#   image = tf.image.resize(image, (IMG_SIZE, IMG_SIZE))\n",
    "  image = tf.image.convert_image_dtype(image, tf.float32)\n",
    "#   image = tf.cast(image, tf.float32)\n",
    "#   image = tf.image.convert_image_dtype(image, dtype=tf.float32)\n",
    "#   print(type(np.array(image)))\n",
    "#   image = seq.augment_image(image)\n",
    "#   print(image)\n",
    "  return image, label \n"
   ]
  },
  {
   "cell_type": "code",
   "execution_count": 9,
   "metadata": {
    "colab": {},
    "colab_type": "code",
    "id": "SFZ6ZW7KSXP9"
   },
   "outputs": [],
   "source": [
    "# train = raw_train.map(\n",
    "#     lambda image, label: (tf.image.convert_image_dtype(image, tf.float32), label)\n",
    "# ).cache().map(\n",
    "#     lambda image, label: (tf.image.rgb_to_grayscale(image), label)\n",
    "# ).map(\n",
    "#     lambda image, label: (seq.augment_image(np.asarray(image)), label)\n",
    "# ).shuffle(\n",
    "#     100\n",
    "# ).batch(\n",
    "#     64\n",
    "# ).repeat()\n",
    "# tf.eagerly()\n",
    "train = raw_train.map(format_example)\n",
    "validation = raw_validation.map(format_example)\n",
    "# test = raw_test.map(format_example)\n"
   ]
  },
  {
   "cell_type": "code",
   "execution_count": 10,
   "metadata": {},
   "outputs": [],
   "source": [
    "# for image, label in train.skip(random.randint(0, NUM_CLASSES * 800 - 10)).take(2):\n",
    "# #   image_aug = seq.augment_image(image)\n",
    "# #   image = tf.cast(image, tf.float32)\n",
    "# #   image = (image/127.5) - 1\n",
    "# #   image = tf.image.resize(image, (IMG_SIZE, IMG_SIZE))\n",
    "#   plt.figure()\n",
    "# #   plt.imshow(image.numpy().astype(np.uint8))\n",
    "#   plt.imshow(image.numpy())\n",
    "#   plt.title(get_label_name(label))"
   ]
  },
  {
   "cell_type": "code",
   "execution_count": 11,
   "metadata": {
    "colab": {},
    "colab_type": "code",
    "id": "Yic-I66m6Isv"
   },
   "outputs": [],
   "source": [
    "BATCH_SIZE = 128\n",
    "SHUFFLE_BUFFER_SIZE = 1000"
   ]
  },
  {
   "cell_type": "code",
   "execution_count": 12,
   "metadata": {
    "colab": {},
    "colab_type": "code",
    "id": "p3UUPdm86LNC"
   },
   "outputs": [],
   "source": [
    "train_batches = train.shuffle(SHUFFLE_BUFFER_SIZE).repeat(10).batch(BATCH_SIZE)\n",
    "validation_batches = validation.repeat(10).batch(BATCH_SIZE)\n",
    "# test_batches = test.batch(BATCH_SIZE)\n",
    "\n",
    "# ds = train_batches.apply( tf.data.experimental.shuffle_and_repeat(buffer_size=metadata.splits['train'].num_examples))\n",
    "# ds = ds.batch(BATCH_SIZE)\n",
    "# ds = ds.prefetch(buffer_size=tf.data.experimental.AUTOTUNE)"
   ]
  },
  {
   "cell_type": "markdown",
   "metadata": {},
   "source": [
    "Check the shape of a image from batch"
   ]
  },
  {
   "cell_type": "code",
   "execution_count": 13,
   "metadata": {
    "colab": {
     "base_uri": "https://localhost:8080/",
     "height": 34
    },
    "colab_type": "code",
    "id": "iknFo3ELBVho",
    "outputId": "6daad7cf-5151-44f8-87e8-40ed76cf406f"
   },
   "outputs": [
    {
     "data": {
      "text/plain": [
       "TensorShape([128, 105, 105, 3])"
      ]
     },
     "execution_count": 13,
     "metadata": {},
     "output_type": "execute_result"
    }
   ],
   "source": [
    "for image_batch, label_batch in train_batches.take(1):\n",
    "    pass\n",
    "#   image_aug = seq.augment_image(image)\n",
    "#   image = tf.cast(image, tf.float32)\n",
    "#   image = (image/127.5) - 1\n",
    "#   image = tf.image.resize(image, (IMG_SIZE, IMG_SIZE))\n",
    "#   plt.figure()\n",
    "#   plt.imshow(image.numpy().astype(np.uint8))\n",
    "#   plt.imshow(image_batch.numpy().squeeze())\n",
    "#   print(image_batch.numpy().shape)\n",
    "#   plt.title(get_label_name(label_batch))\n",
    "\n",
    "image_batch.shape"
   ]
  },
  {
   "cell_type": "markdown",
   "metadata": {},
   "source": [
    "## Create the model from scratch\n",
    "Using Tensorflow 2.0 alpha"
   ]
  },
  {
   "cell_type": "code",
   "execution_count": 14,
   "metadata": {},
   "outputs": [
    {
     "name": "stdout",
     "output_type": "stream",
     "text": [
      "Model: \"sequential\"\n",
      "_________________________________________________________________\n",
      "Layer (type)                 Output Shape              Param #   \n",
      "=================================================================\n",
      "conv2d (Conv2D)              (None, 48, 48, 64)        23296     \n",
      "_________________________________________________________________\n",
      "batch_normalization_v2 (Batc (None, 48, 48, 64)        256       \n",
      "_________________________________________________________________\n",
      "max_pooling2d (MaxPooling2D) (None, 24, 24, 64)        0         \n",
      "_________________________________________________________________\n",
      "conv2d_1 (Conv2D)            (None, 24, 24, 64)        102464    \n",
      "_________________________________________________________________\n",
      "batch_normalization_v2_1 (Ba (None, 24, 24, 64)        256       \n",
      "_________________________________________________________________\n",
      "max_pooling2d_1 (MaxPooling2 (None, 12, 12, 64)        0         \n",
      "_________________________________________________________________\n",
      "conv2d_2 (Conv2D)            (None, 12, 12, 256)       147712    \n",
      "_________________________________________________________________\n",
      "conv2d_3 (Conv2D)            (None, 12, 12, 256)       590080    \n",
      "_________________________________________________________________\n",
      "conv2d_4 (Conv2D)            (None, 12, 12, 256)       590080    \n",
      "_________________________________________________________________\n",
      "flatten (Flatten)            (None, 36864)             0         \n",
      "_________________________________________________________________\n",
      "dense (Dense)                (None, 4096)              150999040 \n",
      "_________________________________________________________________\n",
      "dropout (Dropout)            (None, 4096)              0         \n",
      "_________________________________________________________________\n",
      "dense_1 (Dense)              (None, 4096)              16781312  \n",
      "_________________________________________________________________\n",
      "dropout_1 (Dropout)          (None, 4096)              0         \n",
      "_________________________________________________________________\n",
      "dense_2 (Dense)              (None, 20)                81940     \n",
      "=================================================================\n",
      "Total params: 169,316,436\n",
      "Trainable params: 169,316,180\n",
      "Non-trainable params: 256\n",
      "_________________________________________________________________\n"
     ]
    }
   ],
   "source": [
    "NUM_CLASSES = metadata.features[\"label\"].num_classes\n",
    "\n",
    "model = keras.models.Sequential([\n",
    "    keras.layers.Conv2D(64, input_shape=(105, 105, 3), kernel_size=11, strides=(2, 2), padding='valid', activation='relu'),\n",
    "    keras.layers.BatchNormalization(),\n",
    "    keras.layers.MaxPool2D((3, 3), strides=(2, 2), padding='same'),\n",
    "    \n",
    "#     keras.layers.ZeroPadding2D((1, 1)),\n",
    "    keras.layers.Conv2D(64, kernel_size=5, strides=(1, 1), padding='same', activation='relu'),\n",
    "    keras.layers.BatchNormalization(),\n",
    "    keras.layers.MaxPool2D((3, 3), strides=(2, 2), padding='same'),\n",
    "\n",
    "    keras.layers.Conv2D(256, kernel_size=3, strides=(1, 1), padding='same', activation='relu'),\n",
    "    keras.layers.Conv2D(256, kernel_size=3, strides=(1, 1), padding='same', activation='relu'),\n",
    "    keras.layers.Conv2D(256, kernel_size=3, strides=(1, 1), padding='same', activation='relu'),\n",
    "\n",
    "    keras.layers.Flatten(),\n",
    "    keras.layers.Dense(4096, activation='relu'),\n",
    "    keras.layers.Dropout(0.2),\n",
    "    keras.layers.Dense(4096, activation='relu'),\n",
    "    keras.layers.Dropout(0.2),\n",
    "    keras.layers.Dense(NUM_CLASSES, activation='softmax')\n",
    "])\n",
    "\n",
    "\n",
    "def lr_decay_callback(lr_init, lr_decay):\n",
    "    def step_decay(epoch):\n",
    "        return lr_init * (lr_decay ** (epoch + 1))\n",
    "    return keras.callbacks.LearningRateScheduler(step_decay)\n",
    "\n",
    "# lr_decay = lr_decay_callback(0.01, lr_decay)\n",
    "\n",
    "base_learning_rate = 0.001\n",
    "model.compile(optimizer=tf.keras.optimizers.SGD(lr=base_learning_rate),\n",
    "              loss='sparse_categorical_crossentropy',\n",
    "#               momentum=0.9,\n",
    "#               decay=0.0005,\n",
    "              metrics=['accuracy'])\n",
    "model.summary()"
   ]
  },
  {
   "cell_type": "markdown",
   "metadata": {},
   "source": [
    "## Train the model"
   ]
  },
  {
   "cell_type": "code",
   "execution_count": 15,
   "metadata": {},
   "outputs": [],
   "source": [
    "model = keras.models.load_model('vfr_model_final.h5')"
   ]
  },
  {
   "cell_type": "code",
   "execution_count": null,
   "metadata": {},
   "outputs": [],
   "source": [
    "fine_tune_epochs = 200\n",
    "initial_epochs = 21\n",
    "total_epochs =  initial_epochs + fine_tune_epochs\n",
    "\n",
    "early_stopping_callback = keras.callbacks.EarlyStopping(monitor='accuracy', patience=20)\n",
    "checkpoint_callback = keras.callbacks.ModelCheckpoint('vfr_model_final.h5', monitor='accuracy', verbose=1, save_best_only=True, mode='max')\n",
    "\n",
    "history_fine = model.fit(train_batches,\n",
    "                         epochs=total_epochs,\n",
    "                         initial_epoch = initial_epochs,\n",
    "                         validation_data=validation_batches,\n",
    "                         callbacks=[early_stopping_callback, checkpoint_callback])"
   ]
  },
  {
   "cell_type": "markdown",
   "metadata": {},
   "source": [
    "## Show top-1 and top-5 accuracy for a predicted font from image"
   ]
  },
  {
   "cell_type": "code",
   "execution_count": 16,
   "metadata": {},
   "outputs": [
    {
     "data": {
      "image/png": "[encoded data removed]",
      "text/plain": [
       "<Figure size 432x288 with 1 Axes>"
      ]
     },
     "metadata": {},
     "output_type": "display_data"
    },
    {
     "data": {
      "text/plain": [
       "<Figure size 432x288 with 0 Axes>"
      ]
     },
     "metadata": {},
     "output_type": "display_data"
    }
   ],
   "source": [
    "from PIL import Image\n",
    "\n",
    "crop_seq = iaa.Sequential([\n",
    "#         iaa.AdditiveGaussianNoise(scale=(0.03, 128)),\n",
    "#         iaa.GaussianBlur(sigma=1),\n",
    "#        iaa.Affine(rotate=(-10, 10)),\n",
    "        iaa.PerspectiveTransform(0.025),\n",
    "#         iaa.Invert(p=1),\n",
    "#         iaa.Resize({\"height\":400, \"width\":700}),\n",
    "        iaa.Resize({\"height\":105, \"width\":\"keep-aspect-ratio\"}),\n",
    "        iaa.CropToFixedSize(105, 105),\n",
    "        iaa.Resize({\"height\":105, \"width\":105}),\n",
    "#        iaa.CropToFixedSize(height=320,width=320)\n",
    "])\n",
    "def crop_image(image):\n",
    "    image_aug = crop_seq.augment_image(image)\n",
    "#     print(image_aug.dtype)\n",
    "    return image_aug\n",
    "\n",
    "# im = Image.open(\"tests/JensonBold.jpg\")\n",
    "# test_image = crop_image(np.array(im))\n",
    "# plt.figure(facecolor='chartreuse')\n",
    "# #   plt.imshow(image.numpy().astype(np.uint8))\n",
    "# # print(im)\n",
    "# plt.imshow(im)\n",
    "# plt.title(\"Original:\" + im.filename)\n",
    "# plt.figure(facecolor='chartreuse')\n",
    "# plt.imshow(test_image)\n",
    "# plt.title(\"Processed\")\n",
    "\n",
    "for im, label in validation.take(1):\n",
    "#     im = Image.open(\"tests/JensonBold.jpg\")\n",
    "    test_image = augment_images(im)\n",
    "    plt.figure(facecolor='chartreuse')\n",
    "    #   plt.imshow(image.numpy().astype(np.uint8))\n",
    "    # print(im)\n",
    "    plt.imshow(im)\n",
    "    plt.title(get_label_name(label))\n",
    "    plt.figure(facecolor='chartreuse')\n",
    "#     plt.imshow(test_image, cmap='gray', vmin=0, vmax=255)\n",
    "#     plt.title(\"Processed\")"
   ]
  },
  {
   "cell_type": "code",
   "execution_count": 17,
   "metadata": {},
   "outputs": [],
   "source": [
    "# class_probs = model.predict(validation_batches)"
   ]
  },
  {
   "cell_type": "code",
   "execution_count": 26,
   "metadata": {},
   "outputs": [
    {
     "name": "stdout",
     "output_type": "stream",
     "text": [
      "Total number of classes: 20\n",
      "\n",
      "Predictions: \n",
      "ACaslonPro-Italic\n",
      "AGaramondPro-Italic\n",
      "ACaslonPro-SemiboldItalic\n",
      "ACaslonPro-Regular\n",
      "ACaslonPro-BoldItalic\n",
      "\n",
      "top1 acc 0.9821\n",
      "top5 acc 0.9997\n"
     ]
    }
   ],
   "source": [
    "##### import numpy as np\n",
    "\n",
    "top1 = 0.0\n",
    "top5 = 0.0\n",
    "# labels = range(20)\n",
    "get_label_index = metadata.features[\"label\"].str2int\n",
    "num_labels = metadata.features[\"label\"].num_classes\n",
    "# num_labels = 20\n",
    "# class_probs = model.predict(validation_batches)\n",
    "# class_probs = model.predict(np.expand_dims(test_image, axis=0), 1)\n",
    "# class_probs = np.array([[0, 0.9, 1, 0.5, 0.4, 0.2,\n",
    "#                 0, 0, 0, 0, 0,\n",
    "#                 0, 0, 0, 0, 0,\n",
    "#                 0, 0, 0, 0, 0\n",
    "#             ]])\n",
    "# print(class_probs)\n",
    "print(\"Total number of classes:\", num_labels)\n",
    "# l = 10\n",
    "NUM_TESTS = 10000\n",
    "# print(\"Correct font is:\", get_label_name(l))\n",
    "for image, label in train.take(NUM_TESTS):\n",
    "    class_probs = model.predict(np.expand_dims(image, axis=0), 1)\n",
    "    l = label\n",
    "#     plt.figure(facecolor='gray')\n",
    "    #   plt.imshow(image.numpy().astype(np.uint8))\n",
    "    # print(im)\n",
    "#     plt.imshow(image)\n",
    "#     plt.title(get_label_name(label))\n",
    "#     print(label)\n",
    "#     if i > 0:\n",
    "#         l = validation_batches.skip(i - 1).take(i)\n",
    "#     else:\n",
    "#         l = validation_batches.take(i)\n",
    "#     for image, label in l:\n",
    "#         print(label)\n",
    "    class_prob = class_probs[0][:num_labels]\n",
    "    top_values = (-class_prob).argsort()[:5]\n",
    "#     print(top_values)\n",
    "#     print(\"Top 1 prediction:\", top_values[0])\n",
    "#     print(\"Correct font:\", l.numpy(), \" - \", get_label_name(l))\n",
    "    if top_values[0] == l.numpy():\n",
    "#         print(\"Correct top-1 font\")\n",
    "        top1 += 1.0\n",
    "#         print(top1, \"correct top-1 predictions so far\")\n",
    "    else:\n",
    "        pass\n",
    "#         print(\"Not top-1\")\n",
    "    if np.isin(np.array([l.numpy()]), top_values):\n",
    "#         print(\"Correct top-5 font\")\n",
    "        top5 += 1.0\n",
    "    else: \n",
    "        pass\n",
    "#         print(\"Incorrect font prediction\")\n",
    "\n",
    "print()\n",
    "print(\"Predictions: \")\n",
    "for i in top_values:\n",
    "    prediction = class_probs[0][i]\n",
    "#     print(i, round(prediction, 5))\n",
    "    print(get_label_name(i))#, round(prediction, 5))\n",
    "\n",
    "print()\n",
    "print(\"top1 acc\", top1/NUM_TESTS)\n",
    "print(\"top5 acc\", top5/NUM_TESTS)"
   ]
  },
  {
   "cell_type": "code",
   "execution_count": null,
   "metadata": {},
   "outputs": [],
   "source": []
  },
  {
   "cell_type": "code",
   "execution_count": null,
   "metadata": {},
   "outputs": [],
   "source": [
    "acc = history_fine.history['accuracy']\n",
    "val_acc = history_fine.history['val_accuracy']\n",
    "\n",
    "loss = history_fine.history['loss']\n",
    "val_loss = history_fine.history['val_loss']\n",
    "\n",
    "plt.figure(figsize=(8, 8))\n",
    "plt.subplot(2, 1, 1)\n",
    "plt.plot(acc, label='Training Accuracy')\n",
    "plt.plot(val_acc, label='Validation Accuracy')\n",
    "plt.legend(loc='lower right')\n",
    "plt.ylabel('Accuracy')\n",
    "plt.ylim([min(plt.ylim()),1])\n",
    "plt.title('Training and Validation Accuracy')\n",
    "\n",
    "plt.subplot(2, 1, 2)\n",
    "plt.plot(loss, label='Training Loss')\n",
    "plt.plot(val_loss, label='Validation Loss')\n",
    "plt.legend(loc='upper right')\n",
    "plt.ylabel('Cross Entropy')\n",
    "plt.ylim([0,1.0])\n",
    "plt.title('Training and Validation Loss')\n",
    "plt.xlabel('epoch')\n",
    "plt.show()"
   ]
  },
  {
   "cell_type": "markdown",
   "metadata": {
    "colab_type": "text",
    "id": "OkH-kazQecHB"
   },
   "source": [
    "## Creating the base model from the pre-trained convnets"
   ]
  },
  {
   "cell_type": "code",
   "execution_count": 72,
   "metadata": {},
   "outputs": [],
   "source": [
    "saved_model = keras.models.load_model('vfr_model_c.h5')\n",
    "# saved_model.name = \"VFR\""
   ]
  },
  {
   "cell_type": "code",
   "execution_count": 73,
   "metadata": {},
   "outputs": [
    {
     "name": "stdout",
     "output_type": "stream",
     "text": [
      "Model: \"sequential\"\n",
      "_________________________________________________________________\n",
      "Layer (type)                 Output Shape              Param #   \n",
      "=================================================================\n",
      "vgg16 (Model)                (None, 3, 3, 512)         14714688  \n",
      "_________________________________________________________________\n",
      "flatten (Flatten)            (None, 4608)              0         \n",
      "_________________________________________________________________\n",
      "dense (Dense)                (None, 4096)              18878464  \n",
      "_________________________________________________________________\n",
      "activation (Activation)      (None, 4096)              0         \n",
      "_________________________________________________________________\n",
      "dropout (Dropout)            (None, 4096)              0         \n",
      "_________________________________________________________________\n",
      "dense_1 (Dense)              (None, 4096)              16781312  \n",
      "_________________________________________________________________\n",
      "activation_1 (Activation)    (None, 4096)              0         \n",
      "_________________________________________________________________\n",
      "dropout_1 (Dropout)          (None, 4096)              0         \n",
      "_________________________________________________________________\n",
      "dense_2 (Dense)              (None, 617)               2527849   \n",
      "_________________________________________________________________\n",
      "activation_2 (Activation)    (None, 617)               0         \n",
      "_________________________________________________________________\n",
      "dropout_2 (Dropout)          (None, 617)               0         \n",
      "_________________________________________________________________\n",
      "dense_3 (Dense)              (None, 617)               381306    \n",
      "_________________________________________________________________\n",
      "activation_3 (Activation)    (None, 617)               0         \n",
      "=================================================================\n",
      "Total params: 53,283,619\n",
      "Trainable params: 38,568,931\n",
      "Non-trainable params: 14,714,688\n",
      "_________________________________________________________________\n"
     ]
    }
   ],
   "source": [
    "# new_layers = []\n",
    "# for i in range(4):\n",
    "#     new_layers.add()\n",
    "# # Load weights of previous output layer, set weights for new layer\n",
    "# old_layer_weights = saved_model.layers.pop().get_weights()\n",
    "# new_neuron_weights = np.ndarray(shape=[1,0])\n",
    "\n",
    "# # Set new weights\n",
    "\n",
    "# # Append new weights, add new layer\n",
    "# new_layer = keras.layers.Dense(NUM_CLASSES)#.set_weights(np.append(old_layer_weights,new_neuron_weights))\n",
    "# saved_model.add(new_layer)\n",
    "\n",
    "# for i in range(6):\n",
    "# dense1 = keras.layers.Dense(NUM_CLASSES)(saved_model.layers[-1].output)\n",
    "# saved_model.add(dense1)\n",
    "# saved_model.add(dense1)\n",
    "# # 3rd Fully Connected Layer\n",
    "# saved_model.add(keras.layers.Dense(NUM_CLASSES))\n",
    "# saved_model.add(keras.layers.Activation('relu'))\n",
    "# # Add Dropout\n",
    "# saved_model.add(keras.layers.Dropout(0.4))\n",
    "\n",
    "# # Output Layer\n",
    "# saved_model.add(keras.layers.Dense(NUM_CLASSES))\n",
    "# saved_model.add(keras.layers.Activation('softmax'))\n",
    "\n",
    "# saved_model._layers[0].Input  = (None, 105, 105, 1)\n",
    "saved_model.summary()"
   ]
  },
  {
   "cell_type": "code",
   "execution_count": null,
   "metadata": {},
   "outputs": [
    {
     "name": "stdout",
     "output_type": "stream",
     "text": [
      "Epoch 37/136\n",
      "   1250/Unknown - 1388s 1s/step - loss: 1.1569 - accuracy: 0.5917\n",
      "Epoch 00037: val_loss improved from inf to 1.40803, saving model to vfr_model_c.h5\n",
      "1250/1250 [==============================] - 1731s 1s/step - loss: 1.1569 - accuracy: 0.5917 - val_loss: 0.0000e+00 - val_accuracy: 0.0000e+00\n",
      "Epoch 38/136\n",
      "1249/1250 [============================>.] - ETA: 1s - loss: 1.1480 - accuracy: 0.5965\n",
      "Epoch 00038: val_loss improved from 1.40803 to 1.34804, saving model to vfr_model_c.h5\n",
      "1250/1250 [==============================] - 1732s 1s/step - loss: 1.1481 - accuracy: 0.5964 - val_loss: 1.3480 - val_accuracy: 0.5241\n",
      "Epoch 39/136\n",
      "1249/1250 [============================>.] - ETA: 1s - loss: 1.1398 - accuracy: 0.6002\n",
      "Epoch 00039: val_loss did not improve from 1.34804\n",
      "1250/1250 [==============================] - 1729s 1s/step - loss: 1.1399 - accuracy: 0.6001 - val_loss: 1.3694 - val_accuracy: 0.5136\n",
      "Epoch 40/136\n",
      "1249/1250 [============================>.] - ETA: 1s - loss: 1.1253 - accuracy: 0.6047\n",
      "Epoch 00040: val_loss did not improve from 1.34804\n",
      "1250/1250 [==============================] - 1719s 1s/step - loss: 1.1255 - accuracy: 0.6046 - val_loss: 1.3486 - val_accuracy: 0.5098\n",
      "Epoch 41/136\n",
      "1148/1250 [==========================>...] - ETA: 1:53 - loss: 1.1183 - accuracy: 0.6083\n",
      "Epoch 00041: val_loss did not improve from 1.34804\n",
      "1250/1250 [==============================] - 1719s 1s/step - loss: 1.1203 - accuracy: 0.6080 - val_loss: 1.4490 - val_accuracy: 0.4791\n",
      "Epoch 42/136\n",
      "1249/1250 [============================>.] - ETA: 1s - loss: 1.1117 - accuracy: 0.6118\n",
      "Epoch 00043: val_loss did not improve from 1.31511\n",
      "1250/1250 [==============================] - 1719s 1s/step - loss: 1.1117 - accuracy: 0.6118 - val_loss: 1.4058 - val_accuracy: 0.5012\n",
      "Epoch 44/136\n",
      "1249/1250 [============================>.] - ETA: 1s - loss: 1.1043 - accuracy: 0.6149\n",
      "Epoch 00044: val_loss improved from 1.31511 to 1.30209, saving model to vfr_model_c.h5\n",
      "1250/1250 [==============================] - 1723s 1s/step - loss: 1.1042 - accuracy: 0.6149 - val_loss: 1.3021 - val_accuracy: 0.5337\n",
      "Epoch 45/136\n",
      " 499/1250 [==========>...................] - ETA: 14:00 - loss: 1.1044 - accuracy: 0.6146"
     ]
    },
    {
     "name": "stderr",
     "output_type": "stream",
     "text": [
      "IOPub message rate exceeded.\n",
      "The notebook server will temporarily stop sending output\n",
      "to the client in order to avoid crashing it.\n",
      "To change this limit, set the config variable\n",
      "`--NotebookApp.iopub_msg_rate_limit`.\n",
      "\n",
      "Current values:\n",
      "NotebookApp.iopub_msg_rate_limit=1000.0 (msgs/sec)\n",
      "NotebookApp.rate_limit_window=3.0 (secs)\n",
      "\n"
     ]
    },
    {
     "name": "stdout",
     "output_type": "stream",
     "text": [
      "1249/1250 [============================>.] - ETA: 1s - loss: 1.0848 - accuracy: 0.6236\n",
      "Epoch 00049: val_loss improved from 1.30209 to 1.27676, saving model to vfr_model_c.h5\n",
      "1250/1250 [==============================] - 1721s 1s/step - loss: 1.0847 - accuracy: 0.6237 - val_loss: 1.2768 - val_accuracy: 0.5318\n",
      "Epoch 50/136\n",
      "1249/1250 [============================>.] - ETA: 1s - loss: 1.0807 - accuracy: 0.6247\n",
      "Epoch 00050: val_loss improved from 1.27676 to 1.25943, saving model to vfr_model_c.h5\n",
      "1250/1250 [==============================] - 1722s 1s/step - loss: 1.0808 - accuracy: 0.6246 - val_loss: 1.2594 - val_accuracy: 0.5528\n",
      "Epoch 51/136\n",
      " 632/1250 [==============>...............] - ETA: 11:30 - loss: 1.0733 - accuracy: 0.6272"
     ]
    },
    {
     "name": "stderr",
     "output_type": "stream",
     "text": [
      "IOPub message rate exceeded.\n",
      "The notebook server will temporarily stop sending output\n",
      "to the client in order to avoid crashing it.\n",
      "To change this limit, set the config variable\n",
      "`--NotebookApp.iopub_msg_rate_limit`.\n",
      "\n",
      "Current values:\n",
      "NotebookApp.iopub_msg_rate_limit=1000.0 (msgs/sec)\n",
      "NotebookApp.rate_limit_window=3.0 (secs)\n",
      "\n"
     ]
    },
    {
     "name": "stdout",
     "output_type": "stream",
     "text": [
      "1249/1250 [============================>.] - ETA: 1s - loss: 1.0633 - accuracy: 0.6319\n",
      "Epoch 00053: val_loss did not improve from 1.25943\n",
      "1250/1250 [==============================] - 1721s 1s/step - loss: 1.0633 - accuracy: 0.6320 - val_loss: 1.3965 - val_accuracy: 0.4879\n",
      "Epoch 54/136\n",
      "1249/1250 [============================>.] - ETA: 1s - loss: 1.0703 - accuracy: 0.6283\n",
      "Epoch 00054: val_loss did not improve from 1.25943\n",
      "1250/1250 [==============================] - 1721s 1s/step - loss: 1.0703 - accuracy: 0.6283 - val_loss: 1.3733 - val_accuracy: 0.5002\n",
      "Epoch 55/136\n",
      "1249/1250 [============================>.] - ETA: 1s - loss: 1.0575 - accuracy: 0.6309\n",
      "Epoch 00055: val_loss improved from 1.25943 to 1.23619, saving model to vfr_model_c.h5\n",
      "1250/1250 [==============================] - 1725s 1s/step - loss: 1.0575 - accuracy: 0.6309 - val_loss: 1.2362 - val_accuracy: 0.5535\n",
      "Epoch 56/136\n",
      "1249/1250 [============================>.] - ETA: 1s - loss: 1.0592 - accuracy: 0.6306\n",
      "Epoch 00056: val_loss did not improve from 1.23619\n",
      "1250/1250 [==============================] - 1720s 1s/step - loss: 1.0592 - accuracy: 0.6306 - val_loss: 1.4040 - val_accuracy: 0.4811\n",
      "Epoch 57/136\n",
      "1249/1250 [============================>.] - ETA: 1s - loss: 1.0599 - accuracy: 0.6324\n",
      "Epoch 00057: val_loss did not improve from 1.23619\n",
      "1250/1250 [==============================] - 1720s 1s/step - loss: 1.0600 - accuracy: 0.6324 - val_loss: 1.2603 - val_accuracy: 0.5453\n",
      "Epoch 58/136\n",
      "1249/1250 [============================>.] - ETA: 1s - loss: 1.0518 - accuracy: 0.6336\n",
      "Epoch 00058: val_loss did not improve from 1.23619\n",
      "1250/1250 [==============================] - 1719s 1s/step - loss: 1.0519 - accuracy: 0.6335 - val_loss: 1.3677 - val_accuracy: 0.5040\n",
      "Epoch 59/136\n",
      "1249/1250 [============================>.] - ETA: 1s - loss: 1.0497 - accuracy: 0.6357\n",
      "Epoch 00059: val_loss did not improve from 1.23619\n",
      "1250/1250 [==============================] - 1722s 1s/step - loss: 1.0496 - accuracy: 0.6358 - val_loss: 1.3275 - val_accuracy: 0.5106\n",
      "Epoch 60/136\n",
      "1249/1250 [============================>.] - ETA: 1s - loss: 1.0491 - accuracy: 0.6347\n",
      "Epoch 00060: val_loss did not improve from 1.23619\n",
      "1250/1250 [==============================] - 1722s 1s/step - loss: 1.0492 - accuracy: 0.6347 - val_loss: 1.4451 - val_accuracy: 0.4795\n",
      "Epoch 61/136\n",
      "1249/1250 [============================>.] - ETA: 1s - loss: 1.0511 - accuracy: 0.6351\n",
      "Epoch 00061: val_loss did not improve from 1.23619\n",
      "1250/1250 [==============================] - 1723s 1s/step - loss: 1.0511 - accuracy: 0.6351 - val_loss: 1.3552 - val_accuracy: 0.5187\n",
      "Epoch 62/136\n"
     ]
    }
   ],
   "source": [
    "fine_tune_epochs = 100\n",
    "initial_epochs = 36\n",
    "total_epochs =  initial_epochs + fine_tune_epochs\n",
    "\n",
    "early_stopping_callback = keras.callbacks.EarlyStopping(monitor='val_loss', patience=10)\n",
    "checkpoint_callback = keras.callbacks.ModelCheckpoint('vfr_model_c.h5', monitor='val_loss', verbose=1, save_best_only=True, mode='min')\n",
    "\n",
    "history_fine = saved_model.fit(train_batches,\n",
    "                         epochs=total_epochs,\n",
    "                         initial_epoch = initial_epochs,\n",
    "                         validation_data=validation_batches,\n",
    "                         callbacks=[early_stopping_callback, checkpoint_callback])\n"
   ]
  },
  {
   "cell_type": "code",
   "execution_count": 26,
   "metadata": {},
   "outputs": [
    {
     "data": {
      "image/png": "[encoded data removed]",
      "text/plain": [
       "<Figure size 576x576 with 2 Axes>"
      ]
     },
     "metadata": {
      "needs_background": "light"
     },
     "output_type": "display_data"
    }
   ],
   "source": [
    "acc = history_fine.history['accuracy']\n",
    "val_acc = history_fine.history['val_accuracy']\n",
    "\n",
    "loss = history_fine.history['loss']\n",
    "val_loss = history_fine.history['val_loss']\n",
    "\n",
    "plt.figure(figsize=(8, 8))\n",
    "plt.subplot(2, 1, 1)\n",
    "plt.plot(acc, label='Training Accuracy')\n",
    "plt.plot(val_acc, label='Validation Accuracy')\n",
    "plt.legend(loc='lower right')\n",
    "plt.ylabel('Accuracy')\n",
    "plt.ylim([min(plt.ylim()),1])\n",
    "plt.title('Training and Validation Accuracy')\n",
    "\n",
    "plt.subplot(2, 1, 2)\n",
    "plt.plot(loss, label='Training Loss')\n",
    "plt.plot(val_loss, label='Validation Loss')\n",
    "plt.legend(loc='upper right')\n",
    "plt.ylabel('Cross Entropy')\n",
    "plt.ylim([0,1.0])\n",
    "plt.title('Training and Validation Loss')\n",
    "plt.xlabel('epoch')\n",
    "plt.show()\n"
   ]
  },
  {
   "cell_type": "code",
   "execution_count": 30,
   "metadata": {},
   "outputs": [
    {
     "data": {
      "text/plain": [
       "Text(0.5, 1.0, 'Processed')"
      ]
     },
     "execution_count": 30,
     "metadata": {},
     "output_type": "execute_result"
    },
    {
     "data": {
      "image/png": "[encoded data removed]",
      "text/plain": [
       "<Figure size 432x288 with 1 Axes>"
      ]
     },
     "metadata": {
      "needs_background": "light"
     },
     "output_type": "display_data"
    },
    {
     "data": {
      "image/png": "[encoded data removed]",
      "text/plain": [
       "<Figure size 432x288 with 1 Axes>"
      ]
     },
     "metadata": {
      "needs_background": "light"
     },
     "output_type": "display_data"
    }
   ],
   "source": [
    "from PIL import Image\n",
    "\n",
    "crop_seq = iaa.Sequential([\n",
    "#         iaa.AdditiveGaussianNoise(scale=(0.03, 128)),\n",
    "#         iaa.GaussianBlur(sigma=1),\n",
    "#        iaa.Affine(rotate=(-10, 10)),\n",
    "        iaa.PerspectiveTransform(0.025),\n",
    "#         iaa.Invert(p=1),\n",
    "#         iaa.Resize({\"height\":400, \"width\":700}),\n",
    "        iaa.Resize({\"height\":105, \"width\":\"keep-aspect-ratio\"}),\n",
    "        iaa.CropToFixedSize(105, 105),\n",
    "        iaa.Resize({\"height\":105, \"width\":105}),\n",
    "#        iaa.CropToFixedSize(height=320,width=320)\n",
    "])\n",
    "def crop_image(image):\n",
    "    image_aug = crop_seq.augment_image(image)\n",
    "#     print(image_aug.dtype)\n",
    "    return image_aug\n",
    "\n",
    "im = Image.open(\"tests/GaramondRegular1.jpg\")\n",
    "test_image = crop_image(np.array(im))\n",
    "plt.figure()\n",
    "#   plt.imshow(image.numpy().astype(np.uint8))\n",
    "# print(im)\n",
    "plt.imshow(im)\n",
    "plt.title(\"Original:\" + im.filename)\n",
    "plt.figure()\n",
    "plt.imshow(test_image)\n",
    "plt.title(\"Processed\")"
   ]
  },
  {
   "cell_type": "code",
   "execution_count": null,
   "metadata": {},
   "outputs": [],
   "source": []
  },
  {
   "cell_type": "code",
   "execution_count": 31,
   "metadata": {},
   "outputs": [
    {
     "ename": "NameError",
     "evalue": "name 'saved_model' is not defined",
     "output_type": "error",
     "traceback": [
      "\u001b[0;31m---------------------------------------------------------------------------\u001b[0m",
      "\u001b[0;31mNameError\u001b[0m                                 Traceback (most recent call last)",
      "\u001b[0;32m<ipython-input-31-ecf2e74534e0>\u001b[0m in \u001b[0;36m<module>\u001b[0;34m\u001b[0m\n\u001b[1;32m      3\u001b[0m \u001b[0mget_label_index\u001b[0m \u001b[0;34m=\u001b[0m \u001b[0mmetadata\u001b[0m\u001b[0;34m.\u001b[0m\u001b[0mfeatures\u001b[0m\u001b[0;34m[\u001b[0m\u001b[0;34m\"label\"\u001b[0m\u001b[0;34m]\u001b[0m\u001b[0;34m.\u001b[0m\u001b[0mstr2int\u001b[0m\u001b[0;34m\u001b[0m\u001b[0;34m\u001b[0m\u001b[0m\n\u001b[1;32m      4\u001b[0m \u001b[0mnum_labels\u001b[0m \u001b[0;34m=\u001b[0m \u001b[0mmetadata\u001b[0m\u001b[0;34m.\u001b[0m\u001b[0mfeatures\u001b[0m\u001b[0;34m[\u001b[0m\u001b[0;34m\"label\"\u001b[0m\u001b[0;34m]\u001b[0m\u001b[0;34m.\u001b[0m\u001b[0mnum_classes\u001b[0m\u001b[0;34m\u001b[0m\u001b[0;34m\u001b[0m\u001b[0m\n\u001b[0;32m----> 5\u001b[0;31m \u001b[0mclass_probs\u001b[0m \u001b[0;34m=\u001b[0m \u001b[0msaved_model\u001b[0m\u001b[0;34m.\u001b[0m\u001b[0mpredict\u001b[0m\u001b[0;34m(\u001b[0m\u001b[0mnp\u001b[0m\u001b[0;34m.\u001b[0m\u001b[0mexpand_dims\u001b[0m\u001b[0;34m(\u001b[0m\u001b[0mtest_image\u001b[0m\u001b[0;34m,\u001b[0m \u001b[0maxis\u001b[0m\u001b[0;34m=\u001b[0m\u001b[0;36m0\u001b[0m\u001b[0;34m)\u001b[0m\u001b[0;34m,\u001b[0m \u001b[0;36m1\u001b[0m\u001b[0;34m)\u001b[0m\u001b[0;34m\u001b[0m\u001b[0;34m\u001b[0m\u001b[0m\n\u001b[0m\u001b[1;32m      6\u001b[0m \u001b[0;31m# print(class_probs)\u001b[0m\u001b[0;34m\u001b[0m\u001b[0;34m\u001b[0m\u001b[0;34m\u001b[0m\u001b[0m\n\u001b[1;32m      7\u001b[0m \u001b[0mprint\u001b[0m\u001b[0;34m(\u001b[0m\u001b[0;34m\"Total number of classes:\"\u001b[0m\u001b[0;34m,\u001b[0m \u001b[0mnum_labels\u001b[0m\u001b[0;34m)\u001b[0m\u001b[0;34m\u001b[0m\u001b[0;34m\u001b[0m\u001b[0m\n",
      "\u001b[0;31mNameError\u001b[0m: name 'saved_model' is not defined"
     ]
    }
   ],
   "source": [
    "top1 = 0.0\n",
    "top5 = 0.0\n",
    "get_label_index = metadata.features[\"label\"].str2int\n",
    "num_labels = metadata.features[\"label\"].num_classes\n",
    "class_probs = saved_model.predict(np.expand_dims(test_image, axis=0), 1)\n",
    "# print(class_probs)\n",
    "print(\"Total number of classes:\", num_labels)\n",
    "for i in range(num_labels):\n",
    "    l = i\n",
    "    class_prob = class_probs[0][:num_labels]\n",
    "    top_values = (-class_prob).argsort()[:5]\n",
    "#     print(top_values)\n",
    "    if top_values[0] == l:\n",
    "        top1 += 1.0\n",
    "    if np.isin(np.array([l]), top_values):\n",
    "        top5 += 1.0\n",
    "\n",
    "print()\n",
    "print(\"Predictions: \")\n",
    "for i in top_values:\n",
    "    prediction = class_probs[0][i]\n",
    "    print(get_label_name(i), round(prediction, 5))\n",
    "\n",
    "print()\n",
    "print(\"top1 acc\", top1/num_labels)\n",
    "print(\"top5 acc\", top5/num_labels)"
   ]
  },
  {
   "cell_type": "code",
   "execution_count": null,
   "metadata": {
    "colab": {
     "base_uri": "https://localhost:8080/",
     "height": 51
    },
    "colab_type": "code",
    "id": "19IQ2gqneqmS",
    "outputId": "2659862d-e726-47b0-cdd9-355938312718"
   },
   "outputs": [],
   "source": [
    "IMG_SHAPE = (IMG_SIZE, IMG_SIZE, 3)\n",
    "\n",
    "# Create the base model from the pre-trained model MobileNet V2\n",
    "base_model = tf.keras.applications.VGG16(input_shape=IMG_SHAPE,\n",
    "                                               include_top=False,\n",
    "                                               weights='imagenet')"
   ]
  },
  {
   "cell_type": "markdown",
   "metadata": {
    "colab_type": "text",
    "id": "AqcsxoJIEVXZ"
   },
   "source": [
    "This feature extractor converts each `160x160x3` image to a `5x5x1280` block of features. See what it does to the example batch of images:"
   ]
  },
  {
   "cell_type": "code",
   "execution_count": null,
   "metadata": {
    "colab": {
     "base_uri": "https://localhost:8080/",
     "height": 34
    },
    "colab_type": "code",
    "id": "Y-2LJL0EEUcx",
    "outputId": "408397a1-880f-450f-f9c8-bdc39bf6b83a"
   },
   "outputs": [],
   "source": [
    "feature_batch = base_model(image_batch)\n",
    "print(feature_batch.shape)"
   ]
  },
  {
   "cell_type": "markdown",
   "metadata": {
    "colab_type": "text",
    "id": "rlx56nQtfe8Y"
   },
   "source": [
    "## Feature extraction\n",
    "You will freeze the convolutional base created from the previous step and use that as a feature extractor, add a classifier on top of it and train the top-level classifier."
   ]
  },
  {
   "cell_type": "markdown",
   "metadata": {
    "colab_type": "text",
    "id": "CnMLieHBCwil"
   },
   "source": [
    "### Freeze the convolutional base\n",
    "It's important to freeze the convolutional based before you compile and train the model. By freezing (or setting `layer.trainable = False`), you prevent the weights in a given layer from being updated during training. MobileNet V2 has many layers, so setting the entire model's trainable flag to `False` will freeze all the layers."
   ]
  },
  {
   "cell_type": "code",
   "execution_count": null,
   "metadata": {
    "colab": {},
    "colab_type": "code",
    "id": "OTCJH4bphOeo"
   },
   "outputs": [],
   "source": [
    "base_model.trainable = False"
   ]
  },
  {
   "cell_type": "code",
   "execution_count": null,
   "metadata": {
    "colab": {
     "base_uri": "https://localhost:8080/",
     "height": 5593
    },
    "colab_type": "code",
    "id": "KpbzSmPkDa-N",
    "outputId": "a6e319e3-92de-4153-b10a-d7b34d0e4f6d"
   },
   "outputs": [],
   "source": [
    "# Let's take a look at the base model architecture\n",
    "base_model.summary()\n",
    "# Get the top, pre-trained part of VGG16\n",
    "pretrained_top = base_model.layers[-4:]\n",
    "# print(pretrained_top)"
   ]
  },
  {
   "cell_type": "markdown",
   "metadata": {
    "colab_type": "text",
    "id": "wdMRM8YModbk"
   },
   "source": [
    "### Add a classification head"
   ]
  },
  {
   "cell_type": "markdown",
   "metadata": {
    "colab_type": "text",
    "id": "QBc31c4tMOdH"
   },
   "source": [
    "To generate predictions from the block of features, average over the spatial `5x5` spatial locations, using a `tf.keras.layers.GlobalAveragePooling2D` layer to convert the features to  a single 1280-element vector per image."
   ]
  },
  {
   "cell_type": "code",
   "execution_count": null,
   "metadata": {
    "colab": {
     "base_uri": "https://localhost:8080/",
     "height": 34
    },
    "colab_type": "code",
    "id": "dLnpMF5KOALm",
    "outputId": "652a7b64-d9a4-4bf8-936c-f75d74afaa35"
   },
   "outputs": [],
   "source": [
    "global_average_layer = tf.keras.layers.GlobalAveragePooling2D()\n",
    "feature_batch_average = global_average_layer(feature_batch)\n",
    "print(feature_batch_average.shape)"
   ]
  },
  {
   "cell_type": "markdown",
   "metadata": {
    "colab_type": "text",
    "id": "O1p0OJBR6dOT"
   },
   "source": [
    "Apply a `tf.keras.layers.Dense` layer to convert these features into a single prediction per image. You don't need an activation function here because this prediction will be treated as a `logit`, or a raw prediciton value.  Positive numbers predict class 1, negative numbers predict class 0."
   ]
  },
  {
   "cell_type": "code",
   "execution_count": null,
   "metadata": {
    "colab": {
     "base_uri": "https://localhost:8080/",
     "height": 34
    },
    "colab_type": "code",
    "id": "Wv4afXKj6cVa",
    "outputId": "aa2cd81f-016e-4650-deba-10b48c36e727"
   },
   "outputs": [],
   "source": [
    "prediction_layer = keras.layers.Dense(20)\n",
    "prediction_batch = prediction_layer(feature_batch_average)\n",
    "print(prediction_batch.shape)"
   ]
  },
  {
   "cell_type": "markdown",
   "metadata": {
    "colab_type": "text",
    "id": "0iqnBeZrfoIc"
   },
   "source": [
    "Now stack the feature extractor, and these two layers using a `tf.keras.Sequential` model:"
   ]
  },
  {
   "cell_type": "code",
   "execution_count": null,
   "metadata": {
    "colab": {},
    "colab_type": "code",
    "id": "eApvroIyn1K0"
   },
   "outputs": [],
   "source": [
    "model = tf.keras.Sequential([\n",
    "    keras.layers.Conv2D(filters=256, input_shape=(105, 105, 3), kernel_size=(3,3), strides=(9, 9)),\n",
    "    keras.layers.Conv2D(filters=256, kernel_size=(3,3), strides=(1,1), padding='same'), \n",
    "    keras.layers.Conv2D(filters=256, kernel_size=(3,3), strides=(1,1), padding='same'),    \n",
    "#     *pretrained_top,\n",
    "#     keras.layers.MaxPool2D(),\n",
    "    # Passing it to a Fully Connected layer\n",
    "    keras.layers.Flatten(),\n",
    "    # 1st Fully Connected Layer\n",
    "    keras.layers.Dense(4096),\n",
    "    keras.layers.Activation('relu'),\n",
    "    # Add Dropout to prevent overfitting\n",
    "    keras.layers.Dropout(0.4),\n",
    "\n",
    "    # 2nd Fully Connected Layer\n",
    "    keras.layers.Dense(4096),\n",
    "    keras.layers.Activation('relu'),\n",
    "    # Add Dropout\n",
    "    keras.layers.Dropout(0.4),\n",
    "\n",
    "    # 3rd Fully Connected Layer\n",
    "    keras.layers.Dense(NUM_OF_CLASSES),\n",
    "    keras.layers.Activation('relu'),\n",
    "    # Add Dropout\n",
    "    keras.layers.Dropout(0.4),\n",
    "\n",
    "    # Output Layer\n",
    "    keras.layers.Dense(NUM_OF_CLASSES),\n",
    "    keras.layers.Activation('softmax'),\n",
    "    \n",
    "#   keras.layers.Conv2D(256, kernel_size=12, input_shape=(105, 105, 3), strides=(8, 8), kernel_initializer='glorot_uniform', bias_initializer='zeros'),\n",
    "#   keras.layers.ReLU(),\n",
    "#   keras.layers.Conv2D(256, kernel_size=12, strides=(2, 2), kernel_initializer='glorot_uniform', bias_initializer='zeros'),\n",
    "#   keras.layers.ReLU(),\n",
    "#   keras.layers.Conv2D(256, kernel_size=12, strides=(1, 1), kernel_initializer='glorot_uniform', bias_initializer='zeros'),\n",
    "#   keras.layers.ReLU(),\n",
    "    \n",
    "#   base_model,\n",
    "#   global_average_layer,\n",
    "#   prediction_layer\n",
    "])"
   ]
  },
  {
   "cell_type": "markdown",
   "metadata": {
    "colab_type": "text",
    "id": "g0ylJXE_kRLi"
   },
   "source": [
    "### Compile the model\n",
    "\n",
    "You must compile the model before training it.  Since there are two classes, use a binary cross-entropy loss."
   ]
  },
  {
   "cell_type": "code",
   "execution_count": null,
   "metadata": {
    "colab": {},
    "colab_type": "code",
    "id": "RpR8HdyMhukJ"
   },
   "outputs": [],
   "source": [
    "base_learning_rate = 0.0001\n",
    "model.compile(optimizer=tf.keras.optimizers.SGD(lr=base_learning_rate),\n",
    "              loss='sparse_categorical_crossentropy',\n",
    "#               momentum=0.9,\n",
    "#               decay=0.0005,\n",
    "              metrics=['accuracy'])"
   ]
  },
  {
   "cell_type": "code",
   "execution_count": null,
   "metadata": {
    "colab": {
     "base_uri": "https://localhost:8080/",
     "height": 255
    },
    "colab_type": "code",
    "id": "I8ARiyMFsgbH",
    "outputId": "b526ba94-551e-47c8-bf37-22c35b0d1c5a"
   },
   "outputs": [],
   "source": [
    "model.summary()"
   ]
  },
  {
   "cell_type": "markdown",
   "metadata": {
    "colab_type": "text",
    "id": "lxOcmVr0ydFZ"
   },
   "source": [
    "The 2.5M parameters in MobileNet are frozen, but there are 1.2K _trainable_ parameters in the Dense layer.  These are divided between two `tf.Variable` objects, the weights and biases."
   ]
  },
  {
   "cell_type": "code",
   "execution_count": null,
   "metadata": {
    "colab": {
     "base_uri": "https://localhost:8080/",
     "height": 34
    },
    "colab_type": "code",
    "id": "krvBumovycVA",
    "outputId": "cb122b3e-f832-4bd6-c47d-19c18e92ed9b"
   },
   "outputs": [],
   "source": [
    "len(model.trainable_variables)"
   ]
  },
  {
   "cell_type": "markdown",
   "metadata": {
    "colab_type": "text",
    "id": "RxvgOYTDSWTx"
   },
   "source": [
    "### Train the model\n",
    "\n",
    "After training for 10 epochs, you should see ~96% accuracy.\n",
    "\n",
    "<!-- TODO(markdaoust): delete steps_per_epoch in TensorFlow r1.14/r2.0 -->"
   ]
  },
  {
   "cell_type": "code",
   "execution_count": 20,
   "metadata": {
    "colab": {},
    "colab_type": "code",
    "id": "hlHEavK7DUI7"
   },
   "outputs": [],
   "source": [
    "num_train, num_val = (\n",
    "  metadata.splits['train'].num_examples*weight/10\n",
    "  for weight in SPLIT_WEIGHTS\n",
    ")"
   ]
  },
  {
   "cell_type": "code",
   "execution_count": 21,
   "metadata": {
    "colab": {
     "base_uri": "https://localhost:8080/",
     "height": 34
    },
    "colab_type": "code",
    "id": "Om4O3EESkab1",
    "outputId": "77b1af8a-4caf-4fcc-8d92-609ddabc6f29"
   },
   "outputs": [
    {
     "name": "stdout",
     "output_type": "stream",
     "text": [
      "20/20 [==============================] - 23s 1s/step - loss: 2.9956 - accuracy: 0.0543\n"
     ]
    }
   ],
   "source": [
    "initial_epochs = 5\n",
    "steps_per_epoch = round(num_train)//BATCH_SIZE\n",
    "validation_steps = 20\n",
    "\n",
    "loss0,accuracy0 = model.evaluate(validation_batches, steps = validation_steps)"
   ]
  },
  {
   "cell_type": "code",
   "execution_count": 22,
   "metadata": {
    "colab": {
     "base_uri": "https://localhost:8080/",
     "height": 51
    },
    "colab_type": "code",
    "id": "8cYT1c48CuSd",
    "outputId": "8026556e-51c9-4173-c5de-e4e0df821e31"
   },
   "outputs": [
    {
     "name": "stdout",
     "output_type": "stream",
     "text": [
      "initial loss: 3.00\n",
      "initial accuracy: 0.05\n"
     ]
    }
   ],
   "source": [
    "print(\"initial loss: {:.2f}\".format(loss0))\n",
    "print(\"initial accuracy: {:.2f}\".format(accuracy0))"
   ]
  },
  {
   "cell_type": "code",
   "execution_count": null,
   "metadata": {
    "colab": {
     "base_uri": "https://localhost:8080/",
     "height": 357
    },
    "colab_type": "code",
    "id": "JsaRFlZ9B6WK",
    "outputId": "9d5c9af0-c756-410f-e203-68c869be6801"
   },
   "outputs": [],
   "source": [
    "history = model.fit(train_batches,\n",
    "                    epochs=initial_epochs,\n",
    "                    validation_data=validation_batches)"
   ]
  },
  {
   "cell_type": "markdown",
   "metadata": {
    "colab_type": "text",
    "id": "Hd94CKImf8vi"
   },
   "source": [
    "### Learning curves\n",
    "\n",
    "Let's take a look at the learning curves of the training and validation accuracy/loss when using the MobileNet V2 base model as a fixed feature extractor."
   ]
  },
  {
   "cell_type": "code",
   "execution_count": null,
   "metadata": {
    "colab": {
     "base_uri": "https://localhost:8080/",
     "height": 512
    },
    "colab_type": "code",
    "id": "53OTCh3jnbwV",
    "outputId": "3e7ed689-c5ad-4cfd-8416-1a02e34ac953"
   },
   "outputs": [],
   "source": [
    "acc = history.history['accuracy']\n",
    "val_acc = history.history['val_accuracy']\n",
    "\n",
    "loss = history.history['loss']\n",
    "val_loss = history.history['val_loss']\n",
    "\n",
    "plt.figure(figsize=(8, 8))\n",
    "plt.subplot(2, 1, 1)\n",
    "plt.plot(acc, label='Training Accuracy')\n",
    "plt.plot(val_acc, label='Validation Accuracy')\n",
    "plt.legend(loc='lower right')\n",
    "plt.ylabel('Accuracy')\n",
    "plt.ylim([min(plt.ylim()),1])\n",
    "plt.title('Training and Validation Accuracy')\n",
    "\n",
    "plt.subplot(2, 1, 2)\n",
    "plt.plot(loss, label='Training Loss')\n",
    "plt.plot(val_loss, label='Validation Loss')\n",
    "plt.legend(loc='upper right')\n",
    "plt.ylabel('Cross Entropy')\n",
    "plt.ylim([0,1.0])\n",
    "plt.title('Training and Validation Loss')\n",
    "plt.xlabel('epoch')\n",
    "plt.show()"
   ]
  },
  {
   "cell_type": "markdown",
   "metadata": {
    "colab_type": "text",
    "id": "foWMyyUHbc1j"
   },
   "source": [
    "Note: If you are wondering why the validation metrics are clearly better than the training metrics, the main factor is because layers like `tf.keras.layers.BatchNormalization` and `tf.keras.layers.Dropout` affect accuracy during training. They are turned off when calculating validation loss.\n",
    "\n",
    "To a lesser extent, it is also because training metrics report the average for an epoch, while validation metrics are evaluated after the epoch, so validation metrics see a model that has trained slightly longer."
   ]
  },
  {
   "cell_type": "markdown",
   "metadata": {
    "colab_type": "text",
    "id": "CqwV-CRdS6Nv"
   },
   "source": [
    "## Fine tuning\n",
    "In our feature extraction experiment, you were only training a few layers on top of an MobileNet V2 base model. The weights of the pre-trained network were **not** updated during training.\n",
    "\n",
    "One way to increase performance even further is to train (or \"fine-tune\") the weights of the top layers of the pre-trained model alongside the training of the classifier you added. The training process will force the weights to be tuned from generic features maps to features associated specifically to our dataset.\n",
    "\n",
    "Note: This should only be attempted after you have trained the top-level classifier with the pre-trained model set to non-trainable. If you add a randomly initialized classifier on top of a pre-trained model and attempt to train all layers jointly, the magnitude of the gradient updates will be too large (due to the random weights from the classifier) and your pre-trained model will forget what it has learned.\n",
    "\n",
    "Also, you should try to fine-tune a small number of top layers rather than the whole MobileNet model. In most convolutional networks, the higher up a layer is, the more specialized it is. The first few layers learn very simple and generic features which generalize to almost all types of images. As you go higher up, the features are increasingly more specific to the dataset on which the model was trained. The goal of fine-tuning is to adapt these specialized features to work with the new dataset, rather than overwrite the generic learning."
   ]
  },
  {
   "cell_type": "markdown",
   "metadata": {
    "colab_type": "text",
    "id": "CPXnzUK0QonF"
   },
   "source": [
    "### Un-freeze the top layers of the model\n"
   ]
  },
  {
   "cell_type": "markdown",
   "metadata": {
    "colab_type": "text",
    "id": "rfxv_ifotQak"
   },
   "source": [
    "All you need to do is unfreeze the `base_model` and set the bottom layers be un-trainable. Then, you should recompile the model (necessary for these changes to take effect), and resume training."
   ]
  },
  {
   "cell_type": "code",
   "execution_count": 16,
   "metadata": {},
   "outputs": [],
   "source": [
    "IMG_SHAPE = (IMG_SIZE, IMG_SIZE, 3)\n",
    "\n",
    "# Create the base model from the pre-trained model MobileNet V2\n",
    "base_model = tf.keras.applications.VGG16(input_shape=IMG_SHAPE,\n",
    "                                               include_top=False,\n",
    "                                               weights='imagenet')"
   ]
  },
  {
   "cell_type": "code",
   "execution_count": 23,
   "metadata": {
    "colab": {},
    "colab_type": "code",
    "id": "4nzcagVitLQm"
   },
   "outputs": [],
   "source": [
    "base_model.trainable = False"
   ]
  },
  {
   "cell_type": "code",
   "execution_count": 24,
   "metadata": {
    "colab": {
     "base_uri": "https://localhost:8080/",
     "height": 34
    },
    "colab_type": "code",
    "id": "-4HgVAacRs5v",
    "outputId": "9ce5967c-8d22-45bd-84ff-c34ef57c1ec1"
   },
   "outputs": [
    {
     "name": "stdout",
     "output_type": "stream",
     "text": [
      "Number of layers in the base model:  19\n"
     ]
    }
   ],
   "source": [
    "# Let's take a look to see how many layers are in the base model\n",
    "print(\"Number of layers in the base model: \", len(base_model.layers))\n",
    "\n",
    "# # Fine tune from this layer onwards\n",
    "# # fine_tune_at = 100\n",
    "# fine_tune_last_layers = 4\n",
    "\n",
    "# # Unfreeze all the layers before the `fine_tune_at` layer\n",
    "# for layer in base_model.layers[:-fine_tune_last_layers]:\n",
    "#   print(\"Setting\", layer, \"to non-trainable\")\n",
    "#   layer.trainable = False\n",
    "# print(base_model.summary())"
   ]
  },
  {
   "cell_type": "markdown",
   "metadata": {
    "colab_type": "text",
    "id": "4Uk1dgsxT0IS"
   },
   "source": [
    "### Compile the model\n",
    "\n",
    "Compile the model using a much lower training rate."
   ]
  },
  {
   "cell_type": "code",
   "execution_count": 30,
   "metadata": {
    "colab": {},
    "colab_type": "code",
    "id": "NtUnaz0WUDva"
   },
   "outputs": [],
   "source": [
    "NUM_OF_CLASSES = metadata.features[\"label\"].num_classes\n",
    "# print(NUM_OF_CLASSES)\n",
    "model = tf.keras.Sequential([\n",
    "    base_model,  \n",
    "#     *pretrained_top,\n",
    "#     keras.layers.MaxPool2D(),\n",
    "    # Passing it to a Fully Connected layer\n",
    "    keras.layers.Flatten(),\n",
    "    # 1st Fully Connected Layer\n",
    "    keras.layers.Dense(4096),\n",
    "    keras.layers.Activation('relu'),\n",
    "    # Add Dropout to prevent overfitting\n",
    "    keras.layers.Dropout(0.4),\n",
    "\n",
    "    # 2nd Fully Connected Layer\n",
    "    keras.layers.Dense(4096),\n",
    "    keras.layers.Activation('relu'),\n",
    "    # Add Dropout\n",
    "    keras.layers.Dropout(0.4),\n",
    "\n",
    "    # 3rd Fully Connected Layer\n",
    "    keras.layers.Dense(NUM_OF_CLASSES),\n",
    "    keras.layers.Activation('relu'),\n",
    "    # Add Dropout\n",
    "    keras.layers.Dropout(0.4),\n",
    "\n",
    "    # Output Layer\n",
    "    keras.layers.Dense(NUM_OF_CLASSES),\n",
    "    keras.layers.Activation('softmax'),\n",
    "])\n",
    "\n",
    "# base_learning_rate = 0.01\n",
    "# learning_rate = 0.0001\n",
    "epochs = 50\n",
    "# decay_rate = learning_rate / epochs\n",
    "# momentum = 0.9\n",
    "learning_rate = 0.1\n",
    "decay_rate = learning_rate / epochs\n",
    "momentum = 0.9\n",
    "optimizer = keras.optimizers.SGD(lr=learning_rate, momentum=momentum, decay=decay_rate, nesterov=True)\n",
    "# optimizer = keras.optimizers.Adam(lr=learning_rate)\n",
    "\n",
    "model.compile(loss='sparse_categorical_crossentropy',\n",
    "              optimizer=optimizer,\n",
    "#               optimizer = tf.keras.optimizers.Adam(lr=base_learning_rate/10),\n",
    "              metrics=['accuracy'])"
   ]
  },
  {
   "cell_type": "code",
   "execution_count": 31,
   "metadata": {
    "colab": {
     "base_uri": "https://localhost:8080/",
     "height": 255
    },
    "colab_type": "code",
    "id": "WwBWy7J2kZvA",
    "outputId": "d7bab642-9e06-4790-aacb-20e6924079a3"
   },
   "outputs": [
    {
     "name": "stdout",
     "output_type": "stream",
     "text": [
      "Model: \"sequential_3\"\n",
      "_________________________________________________________________\n",
      "Layer (type)                 Output Shape              Param #   \n",
      "=================================================================\n",
      "vgg16 (Model)                (None, 3, 3, 512)         14714688  \n",
      "_________________________________________________________________\n",
      "flatten_3 (Flatten)          (None, 4608)              0         \n",
      "_________________________________________________________________\n",
      "dense_12 (Dense)             (None, 4096)              18878464  \n",
      "_________________________________________________________________\n",
      "activation_12 (Activation)   (None, 4096)              0         \n",
      "_________________________________________________________________\n",
      "dropout_9 (Dropout)          (None, 4096)              0         \n",
      "_________________________________________________________________\n",
      "dense_13 (Dense)             (None, 4096)              16781312  \n",
      "_________________________________________________________________\n",
      "activation_13 (Activation)   (None, 4096)              0         \n",
      "_________________________________________________________________\n",
      "dropout_10 (Dropout)         (None, 4096)              0         \n",
      "_________________________________________________________________\n",
      "dense_14 (Dense)             (None, 20)                81940     \n",
      "_________________________________________________________________\n",
      "activation_14 (Activation)   (None, 20)                0         \n",
      "_________________________________________________________________\n",
      "dropout_11 (Dropout)         (None, 20)                0         \n",
      "_________________________________________________________________\n",
      "dense_15 (Dense)             (None, 20)                420       \n",
      "_________________________________________________________________\n",
      "activation_15 (Activation)   (None, 20)                0         \n",
      "=================================================================\n",
      "Total params: 50,456,824\n",
      "Trainable params: 35,742,136\n",
      "Non-trainable params: 14,714,688\n",
      "_________________________________________________________________\n"
     ]
    }
   ],
   "source": [
    "model.summary()"
   ]
  },
  {
   "cell_type": "code",
   "execution_count": 32,
   "metadata": {
    "colab": {
     "base_uri": "https://localhost:8080/",
     "height": 34
    },
    "colab_type": "code",
    "id": "bNXelbMQtonr",
    "outputId": "1d7df962-139b-4e25-8367-4533680b79ce"
   },
   "outputs": [
    {
     "data": {
      "text/plain": [
       "8"
      ]
     },
     "execution_count": 32,
     "metadata": {},
     "output_type": "execute_result"
    }
   ],
   "source": [
    "len(model.trainable_variables)"
   ]
  },
  {
   "cell_type": "markdown",
   "metadata": {
    "colab_type": "text",
    "id": "4G5O4jd6TuAG"
   },
   "source": [
    "### Continue Train the model"
   ]
  },
  {
   "cell_type": "markdown",
   "metadata": {
    "colab_type": "text",
    "id": "0foWUN-yDLo_"
   },
   "source": [
    "If you trained to convergence earlier, this will get you a few percent more accuracy."
   ]
  },
  {
   "cell_type": "code",
   "execution_count": null,
   "metadata": {
    "colab": {
     "base_uri": "https://localhost:8080/",
     "height": 357
    },
    "colab_type": "code",
    "id": "ECQLkAsFTlun",
    "outputId": "4532df99-0c58-4321-baeb-7b6a2432c4fa"
   },
   "outputs": [],
   "source": [
    "fine_tune_epochs = 50\n",
    "initial_epochs = 0\n",
    "total_epochs =  initial_epochs + fine_tune_epochs\n",
    "\n",
    "early_stopping_callback = keras.callbacks.EarlyStopping(monitor='val_loss', patience=10)\n",
    "checkpoint_callback = keras.callbacks.ModelCheckpoint('vfr_model_fine.h5', monitor='val_loss', verbose=1, save_best_only=True, mode='min')\n",
    "\n",
    "history_fine = model.fit(train_batches,\n",
    "                         epochs=total_epochs,\n",
    "                         initial_epoch = initial_epochs,\n",
    "                         validation_data=validation_batches,\n",
    "                         callbacks=[early_stopping_callback, checkpoint_callback])\n"
   ]
  },
  {
   "cell_type": "markdown",
   "metadata": {
    "colab_type": "text",
    "id": "TfXEmsxQf6eP"
   },
   "source": [
    "Let's take a look at the learning curves of the training and validation accuracy/loss, when fine tuning the last few layers of the MobileNet V2 base model and training the classifier on top of it. The validation loss is much higher than the training loss, so you may get some overfitting.\n",
    "\n",
    "You may also get some overfitting as the new training set is relatively small and similar to the original MobileNet V2 datasets.\n"
   ]
  },
  {
   "cell_type": "markdown",
   "metadata": {
    "colab_type": "text",
    "id": "DNtfNZKlInGT"
   },
   "source": [
    "After fine tuning the model nearly reaches 98% accuracy."
   ]
  },
  {
   "cell_type": "code",
   "execution_count": null,
   "metadata": {
    "colab": {},
    "colab_type": "code",
    "id": "PpA8PlpQKygw"
   },
   "outputs": [],
   "source": [
    "acc += history_fine.history['accuracy']\n",
    "val_acc += history_fine.history['val_accuracy']\n",
    "\n",
    "loss += history_fine.history['loss']\n",
    "val_loss += history_fine.history['val_loss']"
   ]
  },
  {
   "cell_type": "code",
   "execution_count": null,
   "metadata": {
    "colab": {
     "base_uri": "https://localhost:8080/",
     "height": 512
    },
    "colab_type": "code",
    "id": "chW103JUItdk",
    "outputId": "c681fe0e-a256-48e1-e9e1-8e6e4667e945"
   },
   "outputs": [],
   "source": [
    "plt.figure(figsize=(8, 8))\n",
    "plt.subplot(2, 1, 1)\n",
    "plt.plot(acc, label='Training Accuracy')\n",
    "plt.plot(val_acc, label='Validation Accuracy')\n",
    "plt.ylim([0.8, 1])\n",
    "plt.plot([initial_epochs-1,initial_epochs-1],\n",
    "          plt.ylim(), label='Start Fine Tuning')\n",
    "plt.legend(loc='lower right')\n",
    "plt.title('Training and Validation Accuracy')\n",
    "\n",
    "plt.subplot(2, 1, 2)\n",
    "plt.plot(loss, label='Training Loss')\n",
    "plt.plot(val_loss, label='Validation Loss')\n",
    "plt.ylim([0, 1.0])\n",
    "plt.plot([initial_epochs-1,initial_epochs-1],\n",
    "         plt.ylim(), label='Start Fine Tuning')\n",
    "plt.legend(loc='upper right')\n",
    "plt.title('Training and Validation Loss')\n",
    "plt.xlabel('epoch')\n",
    "plt.show()"
   ]
  },
  {
   "cell_type": "markdown",
   "metadata": {
    "colab_type": "text",
    "id": "_TZTwG7nhm0C"
   },
   "source": [
    "## Summary:\n",
    "\n",
    "* **Using a pre-trained model for feature extraction**:  When working with a small dataset, it is common to take advantage of features learned by a model trained on a larger dataset in the same domain. This is done by instantiating the pre-trained model and adding a fully-connected classifier on top. The pre-trained model is \"frozen\" and only the weights of the classifier get updated during training.\n",
    "In this case, the convolutional base extracted all the features associated with each image and you just trained a classifier that determines the image class given that set of extracted features.\n",
    "\n",
    "* **Fine-tuning a pre-trained model**: To further improve performance, one might want to repurpose the top-level layers of the pre-trained models to the new dataset via fine-tuning.\n",
    "In this case, you tuned your weights such that your model learned high-level features specific to the dataset. This technique is usually recommended when the training dataset is large and very similar to the orginial dataset that the pre-trained model was trained on.\n"
   ]
  },
  {
   "cell_type": "code",
   "execution_count": null,
   "metadata": {},
   "outputs": [],
   "source": []
  }
 ],
 "metadata": {
  "accelerator": "GPU",
  "colab": {
   "collapsed_sections": [],
   "name": "transfer_learning.ipynb",
   "toc_visible": true,
   "version": "0.3.2"
  },
  "kernelspec": {
   "display_name": "Python 3.7.3 Conda (code)",
   "language": "python",
   "name": "conda_code_py37"
  },
  "language_info": {
   "codemirror_mode": {
    "name": "ipython",
    "version": 3
   },
   "file_extension": ".py",
   "mimetype": "text/x-python",
   "name": "python",
   "nbconvert_exporter": "python",
   "pygments_lexer": "ipython3",
   "version": "3.7.2"
  }
 },
 "nbformat": 4,
 "nbformat_minor": 2
}
