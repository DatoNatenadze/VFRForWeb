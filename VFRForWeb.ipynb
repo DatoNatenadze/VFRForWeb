{
 "cells": [
  {
   "cell_type": "markdown",
   "metadata": {
    "colab_type": "text",
    "id": "hRTa3Ee15WsJ"
   },
   "source": [
    "# VFRForWeb"
   ]
  },
  {
   "cell_type": "markdown",
   "metadata": {},
   "source": [
    "VFRForWeb performs improved visual font recognition for the aim of improving the web development workflow currently commonplace.\n",
    "Explanations are provided below for each part of the code, and results are elaborated on later in the notebook."
   ]
  },
  {
   "cell_type": "markdown",
   "metadata": {},
   "source": [
    "## Import libraries\n",
    "\n",
    "Add required imports such as:\n",
    "\n",
    "- TensorFlow 2.0, most widely-used Deep Learning framework, in its most recent version\n",
    "\n",
    "- TensorFlow Datasets, the most convenient API for researchers to import entire public datasets, regardless of structure, in  only a few lines of code. The AdobeVFR dataset was personally contributed to this API and further used in this work.\n",
    "\n",
    "- matplotlib, for plotting images and statistics\n",
    "\n",
    "- imgaug, for image augmentation / preprocessing, for improving the learning curve of the model and reduce overfitting"
   ]
  },
  {
   "cell_type": "code",
   "execution_count": 21,
   "metadata": {
    "colab": {},
    "colab_type": "code",
    "id": "iBMcobPHdD8O"
   },
   "outputs": [],
   "source": [
    "from __future__ import absolute_import, division, print_function, unicode_literals\n",
    "\n",
    "import os\n",
    "\n",
    "import numpy as np\n",
    "\n",
    "import matplotlib.pyplot as plt"
   ]
  },
  {
   "cell_type": "code",
   "execution_count": 22,
   "metadata": {
    "colab": {},
    "colab_type": "code",
    "id": "TqOt6Sv7AsMi"
   },
   "outputs": [
    {
     "name": "stdout",
     "output_type": "stream",
     "text": [
      "Tensorflow version 2.0.0-dev20190510\n",
      "Eager execution enabled: True\n"
     ]
    }
   ],
   "source": [
    "# !pip install tensorflow-gpu==2.0.0-alpha0\n",
    "import tensorflow as tf\n",
    "\n",
    "keras = tf.keras\n",
    "print(\"Tensorflow version\", tf.__version__)\n",
    "print(\"Eager execution enabled:\", tf.executing_eagerly())"
   ]
  },
  {
   "cell_type": "markdown",
   "metadata": {
    "colab_type": "text",
    "id": "v77rlkCKW0IJ"
   },
   "source": [
    "## Data preprocessing"
   ]
  },
  {
   "cell_type": "markdown",
   "metadata": {
    "colab_type": "text",
    "id": "vHP9qMJxt2oz"
   },
   "source": [
    "The dataset, which represents the entire collection of images used to train and validate the model, is downloaded and managed via Tensorflow Datasets, for which a contribution was made to have AdobeVFR available in the API."
   ]
  },
  {
   "cell_type": "code",
   "execution_count": 3,
   "metadata": {
    "colab": {},
    "colab_type": "code",
    "id": "KVh7rDVAuW8Y"
   },
   "outputs": [
    {
     "name": "stdout",
     "output_type": "stream",
     "text": [
      "Loading AdobeVFR\n"
     ]
    }
   ],
   "source": [
    "import sys\n",
    "sys.path.insert(0, '/data2/python_packages/tf_datasets')\n",
    "import tensorflow_datasets as tfds"
   ]
  },
  {
   "cell_type": "markdown",
   "metadata": {
    "colab_type": "text",
    "id": "Nsoic6bGuwQ-"
   },
   "source": [
    "The `tfds.load` method downloads and caches the data, and returns a `tf.data.Dataset` object, which can be used to shuffle, batch and repeat images from each dataset for training and evaluation..\n",
    "\n",
    "The import of AdobeVFR made to Tensorflow Datasets does not have any predefined splits except for training, therefore the entire dataset will be loaded and splitted manually in 80% training, 20% validation."
   ]
  },
  {
   "cell_type": "code",
   "execution_count": 4,
   "metadata": {
    "colab": {},
    "colab_type": "code",
    "id": "ro4oYaEmxe4r"
   },
   "outputs": [
    {
     "name": "stdout",
     "output_type": "stream",
     "text": [
      "Getting labels from fontlist.txt\n"
     ]
    }
   ],
   "source": [
    "SPLIT_WEIGHTS = (8, 2)\n",
    "splits = tfds.Split.TRAIN.subsplit(weighted=SPLIT_WEIGHTS)\n",
    "\n",
    "(raw_train, raw_validation), metadata = tfds.load(name=\"adobe_vfr\", \n",
    "                                                    with_info=True,\n",
    "                                                    split=list(splits),\n",
    "                                                    as_supervised=True)"
   ]
  },
  {
   "cell_type": "markdown",
   "metadata": {},
   "source": [
    "As it can be observed in the code above, the entire complexity of importing the dataset (hich becomes even more difficult as the images are stored [originally in BCF Format](https://www.dropbox.com/sh/o320sowg790cxpe/AAAJr15UkGQ7vEG9YitS2ETma/BCF%20format?dl=0&subfolder_nav_tracking=1)) is completely hidden from users which would only have to use the `.load()` method to import the dataset and its related information, such as number of labels, images, etc.\n",
    "\n",
    "To be more specific, the [Adding a dataset](https://github.com/tensorflow/datasets/blob/master/docs/add_dataset.md) guideline was followed and a Python script was created which processes the BCF images and labels separately, joins them together as tuples, and returns them as a `Dataset` object."
   ]
  },
  {
   "cell_type": "code",
   "execution_count": 8,
   "metadata": {},
   "outputs": [],
   "source": [
    "# print(raw_data)\n",
    "# NUM_CLASSES = metadata.features[\"label\"].num_classes\n",
    "# train_split = tf.cast(SPLIT_WEIGHTS[0] / 10 * IMAGES_PER_FONT, tf.int64)\n",
    "# val_split = tf.cast(SPLIT_WEIGHTS[1] / 10 * IMAGES_PER_FONT, tf.int64)\n",
    "# IMAGES_PER_FONT = 1000\n",
    "\n",
    "# raw_train = raw_data.take(train_split)\n",
    "# raw_validation = raw_data.skip(train_split).take(val_split)\n",
    "# print(raw_train)\n",
    "# print(raw_validation)\n",
    "# print(\"There are\", NUM_CLASSES, \"font classes.\")\n",
    "# for i in range(IMAGES_PER_FONT, NUM_CLASSES * IMAGES_PER_FONT, IMAGES_PER_FONT):\n",
    "#     raw_train = raw_train.concatenate(raw_data.skip(i).take(train_split))\n",
    "#     raw_validation = raw_val.concatenate(raw_data.skip(i + train_split).take(val_split))\n",
    "#     print(i)\n",
    "#     print(train_split)\n",
    "#     print(val_split)\n",
    "\n",
    "# i = 0\n",
    "# for image, label in raw_data.take(1000):\n",
    "#     print(i, label)\n",
    "#     i += 1"
   ]
  },
  {
   "cell_type": "markdown",
   "metadata": {
    "colab_type": "text",
    "id": "o29EfE-p0g5X"
   },
   "source": [
    "The resulting `tf.data.Dataset` objects contain `(image, label)` pairs. Where the images have variable shape and 3 channels, and the label is an integer representing the index of the font from fontlist.txt file."
   ]
  },
  {
   "cell_type": "code",
   "execution_count": 9,
   "metadata": {
    "colab": {
     "height": 74
    },
    "colab_type": "code",
    "id": "GIys1_zY1S9b",
    "outputId": "39ff0c0c-1c5a-4f49-e571-d0b66e65253e"
   },
   "outputs": [
    {
     "name": "stdout",
     "output_type": "stream",
     "text": [
      "<_OptionsDataset shapes: ((None, None, 3), ()), types: (tf.uint8, tf.int64)>\n",
      "<_OptionsDataset shapes: ((None, None, 3), ()), types: (tf.uint8, tf.int64)>\n"
     ]
    }
   ],
   "source": [
    "print(raw_train)\n",
    "print(raw_validation)\n",
    "# print(raw_test)"
   ]
  },
  {
   "cell_type": "markdown",
   "metadata": {
    "colab_type": "text",
    "id": "yO1Q2JaW5sIy"
   },
   "source": [
    "Create the imgaug augmentator and show two random unaugmented images from the training set.\n",
    "Augmentation is done with random parameters which help train the model to idenfity font in more difficult scenarios, such as font distortion, blur and noise, and perspective transforms."
   ]
  },
  {
   "cell_type": "code",
   "execution_count": 10,
   "metadata": {
    "colab": {
     "height": 561
    },
    "colab_type": "code",
    "id": "K5BeQyKThC_Y",
    "outputId": "1aab9539-a2a7-40de-ccd9-47b730c52336"
   },
   "outputs": [
    {
     "data": {
      "image/png": "[encoded data removed]",
      "text/plain": [
       "<Figure size 432x288 with 1 Axes>"
      ]
     },
     "metadata": {
      "needs_background": "light"
     },
     "output_type": "display_data"
    },
    {
     "data": {
      "image/png": "[encoded data removed]",
      "text/plain": [
       "<Figure size 432x288 with 1 Axes>"
      ]
     },
     "metadata": {
      "needs_background": "light"
     },
     "output_type": "display_data"
    }
   ],
   "source": [
    "import imageio\n",
    "import imgaug as ia\n",
    "from matplotlib import pyplot\n",
    "from imgaug import augmenters as iaa\n",
    "import random\n",
    "%matplotlib inline\n",
    "\n",
    "seq = iaa.Sequential([\n",
    "        iaa.AdditiveGaussianNoise(scale=(0.03, 128)),\n",
    "        iaa.GaussianBlur(sigma=1),\n",
    "#        iaa.Affine(rotate=(-10, 10)),\n",
    "        iaa.PerspectiveTransform(0.025),\n",
    "#         iaa.Invert(p=1),\n",
    "        iaa.Resize({\"height\":105, \"width\":\"keep-aspect-ratio\"}),\n",
    "        iaa.CropToFixedSize(105, 105),\n",
    "        iaa.Resize({\"height\":105, \"width\":105}),\n",
    "])\n",
    "\n",
    "NUM_CLASSES = metadata.features['label'].num_classes\n",
    "\n",
    "get_label_name = metadata.features['label'].int2str\n",
    "\n",
    "for image, label in raw_train.skip(random.randint(0, NUM_CLASSES * 1000 - 10)).take(2):\n",
    "  plt.figure()\n",
    "  plt.imshow(image)\n",
    "  plt.title(get_label_name(label))\n",
    "\n",
    "def augment_images(image):\n",
    "    image_aug = seq.augment_image(image)\n",
    "    return image_aug"
   ]
  },
  {
   "cell_type": "markdown",
   "metadata": {
    "colab_type": "text",
    "id": "wvidPx6jeFzf"
   },
   "source": [
    "The `format_example` function is defined to get the original images from TensorFlow, convert them to the required format (from `float32` values to `uint8`) and return as randomly augmented images. "
   ]
  },
  {
   "cell_type": "code",
   "execution_count": 11,
   "metadata": {
    "colab": {},
    "colab_type": "code",
    "id": "y3PM6GVHcC31"
   },
   "outputs": [],
   "source": [
    "IMG_SIZE = 105 # All images will be resized to 105x105\n",
    "\n",
    "def format_example(image, label):\n",
    "  image = tf.cast(image, tf.uint8)\n",
    "  image = tf.image.convert_image_dtype(image, tf.uint8)\n",
    "  image = tf.py_function(func=augment_images, inp=[image], Tout=tf.uint8)\n",
    "  image = tf.image.convert_image_dtype(image, tf.float32)\n",
    "  return image, label \n"
   ]
  },
  {
   "cell_type": "markdown",
   "metadata": {},
   "source": [
    "The function is then mapped to the entire dataset splits of training and validation."
   ]
  },
  {
   "cell_type": "code",
   "execution_count": 12,
   "metadata": {
    "colab": {},
    "colab_type": "code",
    "id": "SFZ6ZW7KSXP9"
   },
   "outputs": [],
   "source": [
    "train = raw_train.map(format_example)\n",
    "validation = raw_validation.map(format_example)"
   ]
  },
  {
   "cell_type": "code",
   "execution_count": 13,
   "metadata": {},
   "outputs": [],
   "source": [
    "# for image, label in train.skip(random.randint(0, NUM_CLASSES * 800 - 10)).take(2):\n",
    "# #   image_aug = seq.augment_image(image)\n",
    "# #   image = tf.cast(image, tf.float32)\n",
    "# #   image = (image/127.5) - 1\n",
    "# #   image = tf.image.resize(image, (IMG_SIZE, IMG_SIZE))\n",
    "#   plt.figure()\n",
    "# #   plt.imshow(image.numpy().astype(np.uint8))\n",
    "#   plt.imshow(image.numpy())\n",
    "#   plt.title(get_label_name(label))"
   ]
  },
  {
   "cell_type": "code",
   "execution_count": 14,
   "metadata": {
    "colab": {},
    "colab_type": "code",
    "id": "Yic-I66m6Isv"
   },
   "outputs": [],
   "source": [
    "BATCH_SIZE = 128\n",
    "SHUFFLE_BUFFER_SIZE = 1000"
   ]
  },
  {
   "cell_type": "markdown",
   "metadata": {},
   "source": [
    "For even better feature detection and overfitting reduction, the original images are repeated 10 times and augmented differently."
   ]
  },
  {
   "cell_type": "code",
   "execution_count": 15,
   "metadata": {
    "colab": {},
    "colab_type": "code",
    "id": "p3UUPdm86LNC"
   },
   "outputs": [],
   "source": [
    "train_batches = train.shuffle(SHUFFLE_BUFFER_SIZE).repeat(10).batch(BATCH_SIZE)\n",
    "validation_batches = validation.repeat(10).batch(BATCH_SIZE)"
   ]
  },
  {
   "cell_type": "markdown",
   "metadata": {},
   "source": [
    "Check the shape of a image from batch (testing purposes only). The result Tensor resembles an array of 128 images of size 105x105 with RGB colouring (3 channels)."
   ]
  },
  {
   "cell_type": "code",
   "execution_count": 23,
   "metadata": {
    "colab": {
     "base_uri": "https://localhost:8080/",
     "height": 34
    },
    "colab_type": "code",
    "id": "iknFo3ELBVho",
    "outputId": "6daad7cf-5151-44f8-87e8-40ed76cf406f"
   },
   "outputs": [
    {
     "data": {
      "text/plain": [
       "TensorShape([128, 105, 105, 3])"
      ]
     },
     "execution_count": 23,
     "metadata": {},
     "output_type": "execute_result"
    }
   ],
   "source": [
    "for image_batch, label_batch in train_batches.take(1):\n",
    "    pass\n",
    "\n",
    "image_batch.shape"
   ]
  },
  {
   "cell_type": "markdown",
   "metadata": {},
   "source": [
    "## Create the model from scratch\n",
    "The final and best performing model is a convolutional neural network with 11 layers (convolutional and max pooling layers), plus other significant new features introduced over the DeepFont model, such as Xavier weight initialisation, batch normalisation layers, and custom dropout rates on the last layers to reduce overfitting of the model. As some of these features represent the default paramaters in Keras, they are not present in the code below but can be inspected customarily by printing the details of each layer.\n",
    "\n",
    "The model is built using Tensorflow 2.0 alpha, which is a significant improvement over the version 1 predecessor, and incorporates the Keras Deep Learning API by default. A previous model was also attempted to be created with PyTorch (an alternative to Keras / TensorFlow), although the results were not satisfactory and therefore disregarded. More information is available further down in the notebook."
   ]
  },
  {
   "cell_type": "code",
   "execution_count": 17,
   "metadata": {},
   "outputs": [
    {
     "name": "stdout",
     "output_type": "stream",
     "text": [
      "Model: \"sequential\"\n",
      "_________________________________________________________________\n",
      "Layer (type)                 Output Shape              Param #   \n",
      "=================================================================\n",
      "conv2d (Conv2D)              (None, 48, 48, 64)        23296     \n",
      "_________________________________________________________________\n",
      "batch_normalization (BatchNo (None, 48, 48, 64)        256       \n",
      "_________________________________________________________________\n",
      "max_pooling2d (MaxPooling2D) (None, 24, 24, 64)        0         \n",
      "_________________________________________________________________\n",
      "conv2d_1 (Conv2D)            (None, 24, 24, 64)        102464    \n",
      "_________________________________________________________________\n",
      "batch_normalization_1 (Batch (None, 24, 24, 64)        256       \n",
      "_________________________________________________________________\n",
      "max_pooling2d_1 (MaxPooling2 (None, 12, 12, 64)        0         \n",
      "_________________________________________________________________\n",
      "conv2d_2 (Conv2D)            (None, 12, 12, 256)       147712    \n",
      "_________________________________________________________________\n",
      "conv2d_3 (Conv2D)            (None, 12, 12, 256)       590080    \n",
      "_________________________________________________________________\n",
      "conv2d_4 (Conv2D)            (None, 12, 12, 256)       590080    \n",
      "_________________________________________________________________\n",
      "flatten (Flatten)            (None, 36864)             0         \n",
      "_________________________________________________________________\n",
      "dense (Dense)                (None, 4096)              150999040 \n",
      "_________________________________________________________________\n",
      "dropout (Dropout)            (None, 4096)              0         \n",
      "_________________________________________________________________\n",
      "dense_1 (Dense)              (None, 4096)              16781312  \n",
      "_________________________________________________________________\n",
      "dropout_1 (Dropout)          (None, 4096)              0         \n",
      "_________________________________________________________________\n",
      "dense_2 (Dense)              (None, 20)                81940     \n",
      "=================================================================\n",
      "Total params: 169,316,436\n",
      "Trainable params: 169,316,180\n",
      "Non-trainable params: 256\n",
      "_________________________________________________________________\n"
     ]
    }
   ],
   "source": [
    "NUM_CLASSES = metadata.features[\"label\"].num_classes\n",
    "\n",
    "model = keras.models.Sequential([\n",
    "    keras.layers.Conv2D(64, input_shape=(105, 105, 3), kernel_size=11, strides=(2, 2), padding='valid', activation='relu'),\n",
    "    keras.layers.BatchNormalization(),\n",
    "    keras.layers.MaxPool2D((3, 3), strides=(2, 2), padding='same'),\n",
    "    \n",
    "    keras.layers.Conv2D(64, kernel_size=5, strides=(1, 1), padding='same', activation='relu'),\n",
    "    keras.layers.BatchNormalization(),\n",
    "    keras.layers.MaxPool2D((3, 3), strides=(2, 2), padding='same'),\n",
    "\n",
    "    keras.layers.Conv2D(256, kernel_size=3, strides=(1, 1), padding='same', activation='relu'),\n",
    "    keras.layers.Conv2D(256, kernel_size=3, strides=(1, 1), padding='same', activation='relu'),\n",
    "    keras.layers.Conv2D(256, kernel_size=3, strides=(1, 1), padding='same', activation='relu'),\n",
    "\n",
    "    keras.layers.Flatten(),\n",
    "    keras.layers.Dense(4096, activation='relu'),\n",
    "    keras.layers.Dropout(0.2),\n",
    "    keras.layers.Dense(4096, activation='relu'),\n",
    "    keras.layers.Dropout(0.2),\n",
    "    keras.layers.Dense(NUM_CLASSES, activation='softmax')\n",
    "])\n",
    "\n",
    "\n",
    "def lr_decay_callback(lr_init, lr_decay):\n",
    "    def step_decay(epoch):\n",
    "        return lr_init * (lr_decay ** (epoch + 1))\n",
    "    return keras.callbacks.LearningRateScheduler(step_decay)\n",
    "\n",
    "# lr_decay = lr_decay_callback(0.01, lr_decay)\n",
    "\n",
    "base_learning_rate = 0.001\n",
    "model.compile(optimizer=tf.keras.optimizers.SGD(lr=base_learning_rate),\n",
    "              loss='sparse_categorical_crossentropy',\n",
    "#               momentum=0.9,\n",
    "#               decay=0.0005,\n",
    "              metrics=['accuracy'])\n",
    "model.summary()"
   ]
  },
  {
   "cell_type": "markdown",
   "metadata": {},
   "source": [
    "## Train the model\n",
    "\n",
    "In the code below, firstly the previously trained model is loaded from the saved H5 file, which includes the model architecture, the weights of layers, and the highest accuracy gained. The model also benefits from custom callbacks for saving the model through checkpoints when the accuracy improves, and for automatically stopping the model from training when it does not improve over 20 epochs.\n",
    "\n",
    "An epoch represents an entire run over the training dataset."
   ]
  },
  {
   "cell_type": "code",
   "execution_count": 18,
   "metadata": {},
   "outputs": [],
   "source": [
    "model = keras.models.load_model('vfr_model_final.h5')"
   ]
  },
  {
   "cell_type": "code",
   "execution_count": null,
   "metadata": {},
   "outputs": [],
   "source": [
    " # We use this variable for statistical purposes, to show continuity over the previous training phase where possible\n",
    "fine_tune_epochs = 200\n",
    "initial_epochs = 21\n",
    "total_epochs =  initial_epochs + fine_tune_epochs\n",
    "\n",
    "early_stopping_callback = keras.callbacks.EarlyStopping(monitor='accuracy', patience=20)\n",
    "checkpoint_callback = keras.callbacks.ModelCheckpoint('vfr_model_final.h5', monitor='accuracy', verbose=1, save_best_only=True, mode='max')\n",
    "\n",
    "history_fine = model.fit(train_batches,\n",
    "                         epochs=total_epochs,\n",
    "                         initial_epoch = initial_epochs,\n",
    "                         validation_data=validation_batches,\n",
    "                         callbacks=[early_stopping_callback, checkpoint_callback])"
   ]
  },
  {
   "cell_type": "markdown",
   "metadata": {},
   "source": [
    "## Evaluation\n",
    "\n",
    "For evaluating the model, the common approach used for evaluating image classification neural networks is used: check the number of fonts which were correctly recognised in the top-1 prediction (i.e. the model is most sure that is the font in the image) and similarly for top-5 prediction (i.e. check whether the correct font is one of the 5 that the model predicted to be the most likely present in the image)."
   ]
  },
  {
   "cell_type": "code",
   "execution_count": null,
   "metadata": {},
   "outputs": [],
   "source": [
    "top1 = 0.0\n",
    "top5 = 0.0\n",
    "get_label_index = metadata.features[\"label\"].str2int\n",
    "num_labels = metadata.features[\"label\"].num_classes\n",
    "print(\"Total number of classes:\", num_labels)\n",
    "NUM_TESTS = 3000\n",
    "for image, label in validation.take(NUM_TESTS):\n",
    "    class_probs = model.predict(np.expand_dims(image, axis=0), 1)\n",
    "    l = label\n",
    "    class_prob = class_probs[0][:num_labels]\n",
    "    top_values = (-class_prob).argsort()[:5]\n",
    "    print(\"Top 1 prediction:\", top_values[0])\n",
    "    print(\"Correct font:\", l.numpy(), \" - \", get_label_name(l))\n",
    "    if top_values[0] == l.numpy():\n",
    "        print(\"Correct top-1 font\")\n",
    "        top1 += 1.0\n",
    "    if np.isin(np.array([l.numpy()]), top_values):\n",
    "        print(\"Correct top-5 font\")\n",
    "        top5 += 1.0\n",
    "\n",
    "print()\n",
    "print(\"Correctly recognised top-1 fonts:\", top1/NUM_TESTS)\n",
    "print(\"Correctly recognised top-5 fonts\", top5/NUM_TESTS)"
   ]
  },
  {
   "cell_type": "markdown",
   "metadata": {},
   "source": [
    "### Test images manually\n",
    "\n",
    "The following code can be used to predict a font from a manually inserted image. This code could therefore be wrapped in a web framework such as Flask and be offered as an online web service such as WhatTheFont, IdentiFont, FontSquirrel, etc."
   ]
  },
  {
   "cell_type": "code",
   "execution_count": 32,
   "metadata": {},
   "outputs": [
    {
     "data": {
      "text/plain": [
       "Text(0.5, 1.0, 'Processed')"
      ]
     },
     "execution_count": 32,
     "metadata": {},
     "output_type": "execute_result"
    },
    {
     "data": {
      "image/png": "[encoded data removed]",
      "text/plain": [
       "<Figure size 432x288 with 1 Axes>"
      ]
     },
     "metadata": {},
     "output_type": "display_data"
    },
    {
     "data": {
      "image/png": "[encoded data removed]",
      "text/plain": [
       "<Figure size 432x288 with 1 Axes>"
      ]
     },
     "metadata": {},
     "output_type": "display_data"
    }
   ],
   "source": [
    "from PIL import Image\n",
    "\n",
    "crop_seq = iaa.Sequential([\n",
    "        iaa.PerspectiveTransform(0.025),\n",
    "        iaa.Resize({\"height\":105, \"width\":\"keep-aspect-ratio\"}),\n",
    "        iaa.CropToFixedSize(105, 105),\n",
    "        iaa.Resize({\"height\":105, \"width\":105}),\n",
    "])\n",
    "def crop_image(image):\n",
    "    image_aug = crop_seq.augment_image(image)\n",
    "    return image_aug\n",
    "\n",
    "im = Image.open(\"tests/CalsonBold.jpg\")\n",
    "test_image = crop_image(np.array(im))\n",
    "plt.figure(facecolor='chartreuse')\n",
    "plt.imshow(im)\n",
    "plt.title(\"Original:\" + im.filename)\n",
    "plt.figure(facecolor='chartreuse')\n",
    "plt.imshow(test_image)\n",
    "plt.title(\"Processed\")"
   ]
  },
  {
   "cell_type": "code",
   "execution_count": 31,
   "metadata": {},
   "outputs": [
    {
     "name": "stdout",
     "output_type": "stream",
     "text": [
      "Total number of classes: 20\n",
      "Correct font: 14  -  AJensonPro-BoldDisp\n",
      "\n",
      "Predictions: \n",
      "AJensonPro-BoldDisp\n",
      "AJensonPro-BoldItDisp\n",
      "ACaslonPro-Bold\n",
      "AJensonPro-BoldItCapt\n",
      "AJensonPro-BoldIt\n",
      "\n",
      "Matched in top-1: 1.0\n",
      "Matched in top-5: 1.0\n"
     ]
    }
   ],
   "source": [
    "top1 = 0.0\n",
    "top5 = 0.0\n",
    "get_label_index = metadata.features[\"label\"].str2int\n",
    "num_labels = metadata.features[\"label\"].num_classes\n",
    "print(\"Total number of classes:\", num_labels)\n",
    "class_probs = model.predict(np.expand_dims(test_image, axis=0), 1)\n",
    "NUM_TESTS = 1\n",
    "l = 14\n",
    "for i in range(len(class_probs)):\n",
    "    class_prob = class_probs[i][:num_labels]\n",
    "    top_values = (-class_prob).argsort()[:5]\n",
    "    print(\"Correct font:\", l, \" - \", get_label_name(l))\n",
    "    if top_values[0] == l:\n",
    "        top1 += 1.0\n",
    "    if np.isin(np.array([l]), top_values):\n",
    "        top5 += 1.0\n",
    "\n",
    "print()\n",
    "print(\"Predictions: \")\n",
    "for i in top_values:\n",
    "    prediction = class_probs[0][i]\n",
    "    print(get_label_name(i))\n",
    "\n",
    "print()\n",
    "print(\"Matched in top-1:\", top1/NUM_TESTS)\n",
    "print(\"Matched in top-5:\", top5/NUM_TESTS)"
   ]
  },
  {
   "cell_type": "code",
   "execution_count": null,
   "metadata": {},
   "outputs": [],
   "source": [
    "acc = history_fine.history['accuracy']\n",
    "val_acc = history_fine.history['val_accuracy']\n",
    "\n",
    "loss = history_fine.history['loss']\n",
    "val_loss = history_fine.history['val_loss']\n",
    "\n",
    "plt.figure(figsize=(8, 8))\n",
    "plt.subplot(2, 1, 1)\n",
    "plt.plot(acc, label='Training Accuracy')\n",
    "plt.plot(val_acc, label='Validation Accuracy')\n",
    "plt.legend(loc='lower right')\n",
    "plt.ylabel('Accuracy')\n",
    "plt.ylim([min(plt.ylim()),1])\n",
    "plt.title('Training and Validation Accuracy')\n",
    "\n",
    "plt.subplot(2, 1, 2)\n",
    "plt.plot(loss, label='Training Loss')\n",
    "plt.plot(val_loss, label='Validation Loss')\n",
    "plt.legend(loc='upper right')\n",
    "plt.ylabel('Cross Entropy')\n",
    "plt.ylim([0,1.0])\n",
    "plt.title('Training and Validation Loss')\n",
    "plt.xlabel('epoch')\n",
    "plt.show()"
   ]
  },
  {
   "cell_type": "markdown",
   "metadata": {
    "colab_type": "text",
    "id": "OkH-kazQecHB"
   },
   "source": [
    "### Other attempts\n",
    "\n",
    "#### Creating the base model from the pre-trained convnets\n",
    "\n",
    "The code below makes use of VGG16 a well-known architecture used in the ImageNet Large Scale Visual Recognition Competition (ILSVRC) in 2014, which won the competition by achieving the lowest error rates at the time of classifying 14 million images over 1000 classes through a state-of-the-art CNN architecture. On top of VGG16, the output of the CNN was flattened and connected to Multilayer Peceptrons (MLPs, Dense layers in Keras) which allow identifying the features in each of the fonts.\n",
    "\n",
    "Due to its deeper CNN architecture (which allows the model to gather more detailed features) and having already been trained over a very large image classification dataset, the model seemed promising for being fine-tuned for VFR, though the results have not been satisfactory even after a reasonable amount of iterations.\n",
    "\n",
    "The model achieved 63% top-1 accuracy after 60 epochs, compared to 90%+ over only 5 epochs for the proposed solution."
   ]
  },
  {
   "cell_type": "code",
   "execution_count": 72,
   "metadata": {},
   "outputs": [],
   "source": [
    "saved_model = keras.models.load_model('vfr_model_c.h5')\n",
    "# saved_model.name = \"VFR\""
   ]
  },
  {
   "cell_type": "code",
   "execution_count": 73,
   "metadata": {},
   "outputs": [
    {
     "name": "stdout",
     "output_type": "stream",
     "text": [
      "Model: \"sequential\"\n",
      "_________________________________________________________________\n",
      "Layer (type)                 Output Shape              Param #   \n",
      "=================================================================\n",
      "vgg16 (Model)                (None, 3, 3, 512)         14714688  \n",
      "_________________________________________________________________\n",
      "flatten (Flatten)            (None, 4608)              0         \n",
      "_________________________________________________________________\n",
      "dense (Dense)                (None, 4096)              18878464  \n",
      "_________________________________________________________________\n",
      "activation (Activation)      (None, 4096)              0         \n",
      "_________________________________________________________________\n",
      "dropout (Dropout)            (None, 4096)              0         \n",
      "_________________________________________________________________\n",
      "dense_1 (Dense)              (None, 4096)              16781312  \n",
      "_________________________________________________________________\n",
      "activation_1 (Activation)    (None, 4096)              0         \n",
      "_________________________________________________________________\n",
      "dropout_1 (Dropout)          (None, 4096)              0         \n",
      "_________________________________________________________________\n",
      "dense_2 (Dense)              (None, 617)               2527849   \n",
      "_________________________________________________________________\n",
      "activation_2 (Activation)    (None, 617)               0         \n",
      "_________________________________________________________________\n",
      "dropout_2 (Dropout)          (None, 617)               0         \n",
      "_________________________________________________________________\n",
      "dense_3 (Dense)              (None, 617)               381306    \n",
      "_________________________________________________________________\n",
      "activation_3 (Activation)    (None, 617)               0         \n",
      "=================================================================\n",
      "Total params: 53,283,619\n",
      "Trainable params: 38,568,931\n",
      "Non-trainable params: 14,714,688\n",
      "_________________________________________________________________\n"
     ]
    }
   ],
   "source": [
    "# new_layers = []\n",
    "# for i in range(4):\n",
    "#     new_layers.add()\n",
    "# # Load weights of previous output layer, set weights for new layer\n",
    "# old_layer_weights = saved_model.layers.pop().get_weights()\n",
    "# new_neuron_weights = np.ndarray(shape=[1,0])\n",
    "\n",
    "# # Set new weights\n",
    "\n",
    "# # Append new weights, add new layer\n",
    "# new_layer = keras.layers.Dense(NUM_CLASSES)#.set_weights(np.append(old_layer_weights,new_neuron_weights))\n",
    "# saved_model.add(new_layer)\n",
    "\n",
    "# for i in range(6):\n",
    "# dense1 = keras.layers.Dense(NUM_CLASSES)(saved_model.layers[-1].output)\n",
    "# saved_model.add(dense1)\n",
    "# saved_model.add(dense1)\n",
    "# # 3rd Fully Connected Layer\n",
    "# saved_model.add(keras.layers.Dense(NUM_CLASSES))\n",
    "# saved_model.add(keras.layers.Activation('relu'))\n",
    "# # Add Dropout\n",
    "# saved_model.add(keras.layers.Dropout(0.4))\n",
    "\n",
    "# # Output Layer\n",
    "# saved_model.add(keras.layers.Dense(NUM_CLASSES))\n",
    "# saved_model.add(keras.layers.Activation('softmax'))\n",
    "\n",
    "# saved_model._layers[0].Input  = (None, 105, 105, 1)\n",
    "saved_model.summary()"
   ]
  },
  {
   "cell_type": "markdown",
   "metadata": {},
   "source": [
    "## Other attempts\n",
    "The following architecture is based on VGG16. "
   ]
  },
  {
   "cell_type": "code",
   "execution_count": null,
   "metadata": {},
   "outputs": [
    {
     "name": "stdout",
     "output_type": "stream",
     "text": [
      "Epoch 37/136\n",
      "   1250/Unknown - 1388s 1s/step - loss: 1.1569 - accuracy: 0.5917\n",
      "Epoch 00037: val_loss improved from inf to 1.40803, saving model to vfr_model_c.h5\n",
      "1250/1250 [==============================] - 1731s 1s/step - loss: 1.1569 - accuracy: 0.5917 - val_loss: 0.0000e+00 - val_accuracy: 0.0000e+00\n",
      "Epoch 38/136\n",
      "1249/1250 [============================>.] - ETA: 1s - loss: 1.1480 - accuracy: 0.5965\n",
      "Epoch 00038: val_loss improved from 1.40803 to 1.34804, saving model to vfr_model_c.h5\n",
      "1250/1250 [==============================] - 1732s 1s/step - loss: 1.1481 - accuracy: 0.5964 - val_loss: 1.3480 - val_accuracy: 0.5241\n",
      "Epoch 39/136\n",
      "1249/1250 [============================>.] - ETA: 1s - loss: 1.1398 - accuracy: 0.6002\n",
      "Epoch 00039: val_loss did not improve from 1.34804\n",
      "1250/1250 [==============================] - 1729s 1s/step - loss: 1.1399 - accuracy: 0.6001 - val_loss: 1.3694 - val_accuracy: 0.5136\n",
      "Epoch 40/136\n",
      "1249/1250 [============================>.] - ETA: 1s - loss: 1.1253 - accuracy: 0.6047\n",
      "Epoch 00040: val_loss did not improve from 1.34804\n",
      "1250/1250 [==============================] - 1719s 1s/step - loss: 1.1255 - accuracy: 0.6046 - val_loss: 1.3486 - val_accuracy: 0.5098\n",
      "Epoch 41/136\n",
      "1148/1250 [==========================>...] - ETA: 1:53 - loss: 1.1183 - accuracy: 0.6083\n",
      "Epoch 00041: val_loss did not improve from 1.34804\n",
      "1250/1250 [==============================] - 1719s 1s/step - loss: 1.1203 - accuracy: 0.6080 - val_loss: 1.4490 - val_accuracy: 0.4791\n",
      "Epoch 42/136\n",
      "1249/1250 [============================>.] - ETA: 1s - loss: 1.1117 - accuracy: 0.6118\n",
      "Epoch 00043: val_loss did not improve from 1.31511\n",
      "1250/1250 [==============================] - 1719s 1s/step - loss: 1.1117 - accuracy: 0.6118 - val_loss: 1.4058 - val_accuracy: 0.5012\n",
      "Epoch 44/136\n",
      "1249/1250 [============================>.] - ETA: 1s - loss: 1.1043 - accuracy: 0.6149\n",
      "Epoch 00044: val_loss improved from 1.31511 to 1.30209, saving model to vfr_model_c.h5\n",
      "1250/1250 [==============================] - 1723s 1s/step - loss: 1.1042 - accuracy: 0.6149 - val_loss: 1.3021 - val_accuracy: 0.5337\n",
      "Epoch 45/136\n",
      " 499/1250 [==========>...................] - ETA: 14:00 - loss: 1.1044 - accuracy: 0.6146"
     ]
    },
    {
     "name": "stderr",
     "output_type": "stream",
     "text": [
      "IOPub message rate exceeded.\n",
      "The notebook server will temporarily stop sending output\n",
      "to the client in order to avoid crashing it.\n",
      "To change this limit, set the config variable\n",
      "`--NotebookApp.iopub_msg_rate_limit`.\n",
      "\n",
      "Current values:\n",
      "NotebookApp.iopub_msg_rate_limit=1000.0 (msgs/sec)\n",
      "NotebookApp.rate_limit_window=3.0 (secs)\n",
      "\n"
     ]
    },
    {
     "name": "stdout",
     "output_type": "stream",
     "text": [
      "1249/1250 [============================>.] - ETA: 1s - loss: 1.0848 - accuracy: 0.6236\n",
      "Epoch 00049: val_loss improved from 1.30209 to 1.27676, saving model to vfr_model_c.h5\n",
      "1250/1250 [==============================] - 1721s 1s/step - loss: 1.0847 - accuracy: 0.6237 - val_loss: 1.2768 - val_accuracy: 0.5318\n",
      "Epoch 50/136\n",
      "1249/1250 [============================>.] - ETA: 1s - loss: 1.0807 - accuracy: 0.6247\n",
      "Epoch 00050: val_loss improved from 1.27676 to 1.25943, saving model to vfr_model_c.h5\n",
      "1250/1250 [==============================] - 1722s 1s/step - loss: 1.0808 - accuracy: 0.6246 - val_loss: 1.2594 - val_accuracy: 0.5528\n",
      "Epoch 51/136\n",
      " 632/1250 [==============>...............] - ETA: 11:30 - loss: 1.0733 - accuracy: 0.6272"
     ]
    },
    {
     "name": "stderr",
     "output_type": "stream",
     "text": [
      "IOPub message rate exceeded.\n",
      "The notebook server will temporarily stop sending output\n",
      "to the client in order to avoid crashing it.\n",
      "To change this limit, set the config variable\n",
      "`--NotebookApp.iopub_msg_rate_limit`.\n",
      "\n",
      "Current values:\n",
      "NotebookApp.iopub_msg_rate_limit=1000.0 (msgs/sec)\n",
      "NotebookApp.rate_limit_window=3.0 (secs)\n",
      "\n"
     ]
    },
    {
     "name": "stdout",
     "output_type": "stream",
     "text": [
      "1249/1250 [============================>.] - ETA: 1s - loss: 1.0633 - accuracy: 0.6319\n",
      "Epoch 00053: val_loss did not improve from 1.25943\n",
      "1250/1250 [==============================] - 1721s 1s/step - loss: 1.0633 - accuracy: 0.6320 - val_loss: 1.3965 - val_accuracy: 0.4879\n",
      "Epoch 54/136\n",
      "1249/1250 [============================>.] - ETA: 1s - loss: 1.0703 - accuracy: 0.6283\n",
      "Epoch 00054: val_loss did not improve from 1.25943\n",
      "1250/1250 [==============================] - 1721s 1s/step - loss: 1.0703 - accuracy: 0.6283 - val_loss: 1.3733 - val_accuracy: 0.5002\n",
      "Epoch 55/136\n",
      "1249/1250 [============================>.] - ETA: 1s - loss: 1.0575 - accuracy: 0.6309\n",
      "Epoch 00055: val_loss improved from 1.25943 to 1.23619, saving model to vfr_model_c.h5\n",
      "1250/1250 [==============================] - 1725s 1s/step - loss: 1.0575 - accuracy: 0.6309 - val_loss: 1.2362 - val_accuracy: 0.5535\n",
      "Epoch 56/136\n",
      "1249/1250 [============================>.] - ETA: 1s - loss: 1.0592 - accuracy: 0.6306\n",
      "Epoch 00056: val_loss did not improve from 1.23619\n",
      "1250/1250 [==============================] - 1720s 1s/step - loss: 1.0592 - accuracy: 0.6306 - val_loss: 1.4040 - val_accuracy: 0.4811\n",
      "Epoch 57/136\n",
      "1249/1250 [============================>.] - ETA: 1s - loss: 1.0599 - accuracy: 0.6324\n",
      "Epoch 00057: val_loss did not improve from 1.23619\n",
      "1250/1250 [==============================] - 1720s 1s/step - loss: 1.0600 - accuracy: 0.6324 - val_loss: 1.2603 - val_accuracy: 0.5453\n",
      "Epoch 58/136\n",
      "1249/1250 [============================>.] - ETA: 1s - loss: 1.0518 - accuracy: 0.6336\n",
      "Epoch 00058: val_loss did not improve from 1.23619\n",
      "1250/1250 [==============================] - 1719s 1s/step - loss: 1.0519 - accuracy: 0.6335 - val_loss: 1.3677 - val_accuracy: 0.5040\n",
      "Epoch 59/136\n",
      "1249/1250 [============================>.] - ETA: 1s - loss: 1.0497 - accuracy: 0.6357\n",
      "Epoch 00059: val_loss did not improve from 1.23619\n",
      "1250/1250 [==============================] - 1722s 1s/step - loss: 1.0496 - accuracy: 0.6358 - val_loss: 1.3275 - val_accuracy: 0.5106\n",
      "Epoch 60/136\n",
      "1249/1250 [============================>.] - ETA: 1s - loss: 1.0491 - accuracy: 0.6347\n",
      "Epoch 00060: val_loss did not improve from 1.23619\n",
      "1250/1250 [==============================] - 1722s 1s/step - loss: 1.0492 - accuracy: 0.6347 - val_loss: 1.4451 - val_accuracy: 0.4795\n",
      "Epoch 61/136\n",
      "1249/1250 [============================>.] - ETA: 1s - loss: 1.0511 - accuracy: 0.6351\n",
      "Epoch 00061: val_loss did not improve from 1.23619\n",
      "1250/1250 [==============================] - 1723s 1s/step - loss: 1.0511 - accuracy: 0.6351 - val_loss: 1.3552 - val_accuracy: 0.5187\n",
      "Epoch 62/136\n"
     ]
    }
   ],
   "source": [
    "fine_tune_epochs = 100\n",
    "initial_epochs = 36\n",
    "total_epochs =  initial_epochs + fine_tune_epochs\n",
    "\n",
    "early_stopping_callback = keras.callbacks.EarlyStopping(monitor='val_loss', patience=10)\n",
    "checkpoint_callback = keras.callbacks.ModelCheckpoint('vfr_model_c.h5', monitor='val_loss', verbose=1, save_best_only=True, mode='min')\n",
    "\n",
    "history_fine = saved_model.fit(train_batches,\n",
    "                         epochs=total_epochs,\n",
    "                         initial_epoch = initial_epochs,\n",
    "                         validation_data=validation_batches,\n",
    "                         callbacks=[early_stopping_callback, checkpoint_callback])\n"
   ]
  },
  {
   "cell_type": "code",
   "execution_count": null,
   "metadata": {},
   "outputs": [],
   "source": [
    "acc = history_fine.history['accuracy']\n",
    "val_acc = history_fine.history['val_accuracy']\n",
    "\n",
    "loss = history_fine.history['loss']\n",
    "val_loss = history_fine.history['val_loss']\n",
    "\n",
    "plt.figure(figsize=(8, 8))\n",
    "plt.subplot(2, 1, 1)\n",
    "plt.plot(acc, label='Training Accuracy')\n",
    "plt.plot(val_acc, label='Validation Accuracy')\n",
    "plt.legend(loc='lower right')\n",
    "plt.ylabel('Accuracy')\n",
    "plt.ylim([min(plt.ylim()),1])\n",
    "plt.title('Training and Validation Accuracy')\n",
    "\n",
    "plt.subplot(2, 1, 2)\n",
    "plt.plot(loss, label='Training Loss')\n",
    "plt.plot(val_loss, label='Validation Loss')\n",
    "plt.legend(loc='upper right')\n",
    "plt.ylabel('Cross Entropy')\n",
    "plt.ylim([0,1.0])\n",
    "plt.title('Training and Validation Loss')\n",
    "plt.xlabel('epoch')\n",
    "plt.show()\n"
   ]
  },
  {
   "cell_type": "markdown",
   "metadata": {},
   "source": [
    "## Other experiments\n",
    "\n",
    "Below code is only kept for reference purposes."
   ]
  },
  {
   "cell_type": "code",
   "execution_count": 30,
   "metadata": {},
   "outputs": [
    {
     "data": {
      "text/plain": [
       "Text(0.5, 1.0, 'Processed')"
      ]
     },
     "execution_count": 30,
     "metadata": {},
     "output_type": "execute_result"
    },
    {
     "data": {
      "image/png": "[encoded data removed]",
      "text/plain": [
       "<Figure size 432x288 with 1 Axes>"
      ]
     },
     "metadata": {
      "needs_background": "light"
     },
     "output_type": "display_data"
    },
    {
     "data": {
      "image/png": "[encoded data removed]",
      "text/plain": [
       "<Figure size 432x288 with 1 Axes>"
      ]
     },
     "metadata": {
      "needs_background": "light"
     },
     "output_type": "display_data"
    }
   ],
   "source": [
    "from PIL import Image\n",
    "\n",
    "crop_seq = iaa.Sequential([\n",
    "#         iaa.AdditiveGaussianNoise(scale=(0.03, 128)),\n",
    "#         iaa.GaussianBlur(sigma=1),\n",
    "#        iaa.Affine(rotate=(-10, 10)),\n",
    "        iaa.PerspectiveTransform(0.025),\n",
    "#         iaa.Invert(p=1),\n",
    "#         iaa.Resize({\"height\":400, \"width\":700}),\n",
    "        iaa.Resize({\"height\":105, \"width\":\"keep-aspect-ratio\"}),\n",
    "        iaa.CropToFixedSize(105, 105),\n",
    "        iaa.Resize({\"height\":105, \"width\":105}),\n",
    "#        iaa.CropToFixedSize(height=320,width=320)\n",
    "])\n",
    "def crop_image(image):\n",
    "    image_aug = crop_seq.augment_image(image)\n",
    "#     print(image_aug.dtype)\n",
    "    return image_aug\n",
    "\n",
    "im = Image.open(\"tests/GaramondRegular1.jpg\")\n",
    "test_image = crop_image(np.array(im))\n",
    "plt.figure()\n",
    "#   plt.imshow(image.numpy().astype(np.uint8))\n",
    "# print(im)\n",
    "plt.imshow(im)\n",
    "plt.title(\"Original:\" + im.filename)\n",
    "plt.figure()\n",
    "plt.imshow(test_image)\n",
    "plt.title(\"Processed\")"
   ]
  },
  {
   "cell_type": "code",
   "execution_count": null,
   "metadata": {},
   "outputs": [],
   "source": []
  },
  {
   "cell_type": "code",
   "execution_count": null,
   "metadata": {},
   "outputs": [],
   "source": [
    "top1 = 0.0\n",
    "top5 = 0.0\n",
    "get_label_index = metadata.features[\"label\"].str2int\n",
    "num_labels = metadata.features[\"label\"].num_classes\n",
    "class_probs = saved_model.predict(np.expand_dims(test_image, axis=0), 1)\n",
    "# print(class_probs)\n",
    "print(\"Total number of classes:\", num_labels)\n",
    "for i in range(num_labels):\n",
    "    l = i\n",
    "    class_prob = class_probs[0][:num_labels]\n",
    "    top_values = (-class_prob).argsort()[:5]\n",
    "#     print(top_values)\n",
    "    if top_values[0] == l:\n",
    "        top1 += 1.0\n",
    "    if np.isin(np.array([l]), top_values):\n",
    "        top5 += 1.0\n",
    "\n",
    "print()\n",
    "print(\"Predictions: \")\n",
    "for i in top_values:\n",
    "    prediction = class_probs[0][i]\n",
    "    print(get_label_name(i), round(prediction, 5))\n",
    "\n",
    "print()\n",
    "print(\"top1 acc\", top1/num_labels)\n",
    "print(\"top5 acc\", top5/num_labels)"
   ]
  },
  {
   "cell_type": "code",
   "execution_count": null,
   "metadata": {
    "colab": {
     "base_uri": "https://localhost:8080/",
     "height": 51
    },
    "colab_type": "code",
    "id": "19IQ2gqneqmS",
    "outputId": "2659862d-e726-47b0-cdd9-355938312718"
   },
   "outputs": [],
   "source": [
    "IMG_SHAPE = (IMG_SIZE, IMG_SIZE, 3)\n",
    "\n",
    "# Create the base model from the pre-trained model MobileNet V2\n",
    "base_model = tf.keras.applications.VGG16(input_shape=IMG_SHAPE,\n",
    "                                               include_top=False,\n",
    "                                               weights='imagenet')"
   ]
  },
  {
   "cell_type": "markdown",
   "metadata": {
    "colab_type": "text",
    "id": "AqcsxoJIEVXZ"
   },
   "source": [
    "This feature extractor converts each `160x160x3` image to a `5x5x1280` block of features. See what it does to the example batch of images:"
   ]
  },
  {
   "cell_type": "code",
   "execution_count": null,
   "metadata": {
    "colab": {
     "base_uri": "https://localhost:8080/",
     "height": 34
    },
    "colab_type": "code",
    "id": "Y-2LJL0EEUcx",
    "outputId": "408397a1-880f-450f-f9c8-bdc39bf6b83a"
   },
   "outputs": [],
   "source": [
    "feature_batch = base_model(image_batch)\n",
    "print(feature_batch.shape)"
   ]
  },
  {
   "cell_type": "markdown",
   "metadata": {
    "colab_type": "text",
    "id": "rlx56nQtfe8Y"
   },
   "source": [
    "## Feature extraction\n",
    "You will freeze the convolutional base created from the previous step and use that as a feature extractor, add a classifier on top of it and train the top-level classifier."
   ]
  },
  {
   "cell_type": "markdown",
   "metadata": {
    "colab_type": "text",
    "id": "CnMLieHBCwil"
   },
   "source": [
    "### Freeze the convolutional base\n",
    "It's important to freeze the convolutional based before you compile and train the model. By freezing (or setting `layer.trainable = False`), you prevent the weights in a given layer from being updated during training. MobileNet V2 has many layers, so setting the entire model's trainable flag to `False` will freeze all the layers."
   ]
  },
  {
   "cell_type": "code",
   "execution_count": null,
   "metadata": {
    "colab": {},
    "colab_type": "code",
    "id": "OTCJH4bphOeo"
   },
   "outputs": [],
   "source": [
    "base_model.trainable = False"
   ]
  },
  {
   "cell_type": "code",
   "execution_count": null,
   "metadata": {
    "colab": {
     "base_uri": "https://localhost:8080/",
     "height": 5593
    },
    "colab_type": "code",
    "id": "KpbzSmPkDa-N",
    "outputId": "a6e319e3-92de-4153-b10a-d7b34d0e4f6d"
   },
   "outputs": [],
   "source": [
    "# Let's take a look at the base model architecture\n",
    "base_model.summary()\n",
    "# Get the top, pre-trained part of VGG16\n",
    "pretrained_top = base_model.layers[-4:]\n",
    "# print(pretrained_top)"
   ]
  },
  {
   "cell_type": "markdown",
   "metadata": {
    "colab_type": "text",
    "id": "wdMRM8YModbk"
   },
   "source": [
    "### Add a classification head"
   ]
  },
  {
   "cell_type": "code",
   "execution_count": null,
   "metadata": {
    "colab": {
     "base_uri": "https://localhost:8080/",
     "height": 34
    },
    "colab_type": "code",
    "id": "dLnpMF5KOALm",
    "outputId": "652a7b64-d9a4-4bf8-936c-f75d74afaa35"
   },
   "outputs": [],
   "source": [
    "global_average_layer = tf.keras.layers.GlobalAveragePooling2D()\n",
    "feature_batch_average = global_average_layer(feature_batch)\n",
    "print(feature_batch_average.shape)"
   ]
  },
  {
   "cell_type": "code",
   "execution_count": null,
   "metadata": {
    "colab": {
     "base_uri": "https://localhost:8080/",
     "height": 34
    },
    "colab_type": "code",
    "id": "Wv4afXKj6cVa",
    "outputId": "aa2cd81f-016e-4650-deba-10b48c36e727"
   },
   "outputs": [],
   "source": [
    "prediction_layer = keras.layers.Dense(20)\n",
    "prediction_batch = prediction_layer(feature_batch_average)\n",
    "print(prediction_batch.shape)"
   ]
  },
  {
   "cell_type": "code",
   "execution_count": null,
   "metadata": {
    "colab": {},
    "colab_type": "code",
    "id": "eApvroIyn1K0"
   },
   "outputs": [],
   "source": [
    "model = tf.keras.Sequential([\n",
    "    keras.layers.Conv2D(filters=256, input_shape=(105, 105, 3), kernel_size=(3,3), strides=(9, 9)),\n",
    "    keras.layers.Conv2D(filters=256, kernel_size=(3,3), strides=(1,1), padding='same'), \n",
    "    keras.layers.Conv2D(filters=256, kernel_size=(3,3), strides=(1,1), padding='same'),    \n",
    "#     *pretrained_top,\n",
    "#     keras.layers.MaxPool2D(),\n",
    "    # Passing it to a Fully Connected layer\n",
    "    keras.layers.Flatten(),\n",
    "    # 1st Fully Connected Layer\n",
    "    keras.layers.Dense(4096),\n",
    "    keras.layers.Activation('relu'),\n",
    "    # Add Dropout to prevent overfitting\n",
    "    keras.layers.Dropout(0.4),\n",
    "\n",
    "    # 2nd Fully Connected Layer\n",
    "    keras.layers.Dense(4096),\n",
    "    keras.layers.Activation('relu'),\n",
    "    # Add Dropout\n",
    "    keras.layers.Dropout(0.4),\n",
    "\n",
    "    # 3rd Fully Connected Layer\n",
    "    keras.layers.Dense(NUM_OF_CLASSES),\n",
    "    keras.layers.Activation('relu'),\n",
    "    # Add Dropout\n",
    "    keras.layers.Dropout(0.4),\n",
    "\n",
    "    # Output Layer\n",
    "    keras.layers.Dense(NUM_OF_CLASSES),\n",
    "    keras.layers.Activation('softmax'),\n",
    "    \n",
    "#   keras.layers.Conv2D(256, kernel_size=12, input_shape=(105, 105, 3), strides=(8, 8), kernel_initializer='glorot_uniform', bias_initializer='zeros'),\n",
    "#   keras.layers.ReLU(),\n",
    "#   keras.layers.Conv2D(256, kernel_size=12, strides=(2, 2), kernel_initializer='glorot_uniform', bias_initializer='zeros'),\n",
    "#   keras.layers.ReLU(),\n",
    "#   keras.layers.Conv2D(256, kernel_size=12, strides=(1, 1), kernel_initializer='glorot_uniform', bias_initializer='zeros'),\n",
    "#   keras.layers.ReLU(),\n",
    "    \n",
    "#   base_model,\n",
    "#   global_average_layer,\n",
    "#   prediction_layer\n",
    "])"
   ]
  },
  {
   "cell_type": "markdown",
   "metadata": {
    "colab_type": "text",
    "id": "g0ylJXE_kRLi"
   },
   "source": [
    "### Compile the model "
   ]
  },
  {
   "cell_type": "code",
   "execution_count": null,
   "metadata": {
    "colab": {},
    "colab_type": "code",
    "id": "RpR8HdyMhukJ"
   },
   "outputs": [],
   "source": [
    "base_learning_rate = 0.0001\n",
    "model.compile(optimizer=tf.keras.optimizers.SGD(lr=base_learning_rate),\n",
    "              loss='sparse_categorical_crossentropy',\n",
    "#               momentum=0.9,\n",
    "#               decay=0.0005,\n",
    "              metrics=['accuracy'])"
   ]
  },
  {
   "cell_type": "code",
   "execution_count": null,
   "metadata": {
    "colab": {
     "base_uri": "https://localhost:8080/",
     "height": 255
    },
    "colab_type": "code",
    "id": "I8ARiyMFsgbH",
    "outputId": "b526ba94-551e-47c8-bf37-22c35b0d1c5a"
   },
   "outputs": [],
   "source": [
    "model.summary()"
   ]
  },
  {
   "cell_type": "markdown",
   "metadata": {
    "colab_type": "text",
    "id": "lxOcmVr0ydFZ"
   },
   "source": [
    "The 2.5M parameters in MobileNet are frozen, but there are 1.2K _trainable_ parameters in the Dense layer.  These are divided between two `tf.Variable` objects, the weights and biases."
   ]
  },
  {
   "cell_type": "code",
   "execution_count": null,
   "metadata": {
    "colab": {
     "base_uri": "https://localhost:8080/",
     "height": 34
    },
    "colab_type": "code",
    "id": "krvBumovycVA",
    "outputId": "cb122b3e-f832-4bd6-c47d-19c18e92ed9b"
   },
   "outputs": [],
   "source": [
    "len(model.trainable_variables)"
   ]
  },
  {
   "cell_type": "markdown",
   "metadata": {
    "colab_type": "text",
    "id": "RxvgOYTDSWTx"
   },
   "source": [
    "### Train the model\n",
    "\n",
    "After training for 10 epochs, you should see ~96% accuracy.\n",
    "\n",
    "<!-- TODO(markdaoust): delete steps_per_epoch in TensorFlow r1.14/r2.0 -->"
   ]
  },
  {
   "cell_type": "code",
   "execution_count": 20,
   "metadata": {
    "colab": {},
    "colab_type": "code",
    "id": "hlHEavK7DUI7"
   },
   "outputs": [],
   "source": [
    "num_train, num_val = (\n",
    "  metadata.splits['train'].num_examples*weight/10\n",
    "  for weight in SPLIT_WEIGHTS\n",
    ")"
   ]
  },
  {
   "cell_type": "code",
   "execution_count": 21,
   "metadata": {
    "colab": {
     "base_uri": "https://localhost:8080/",
     "height": 34
    },
    "colab_type": "code",
    "id": "Om4O3EESkab1",
    "outputId": "77b1af8a-4caf-4fcc-8d92-609ddabc6f29"
   },
   "outputs": [
    {
     "name": "stdout",
     "output_type": "stream",
     "text": [
      "20/20 [==============================] - 23s 1s/step - loss: 2.9956 - accuracy: 0.0543\n"
     ]
    }
   ],
   "source": [
    "initial_epochs = 5\n",
    "steps_per_epoch = round(num_train)//BATCH_SIZE\n",
    "validation_steps = 20\n",
    "\n",
    "loss0,accuracy0 = model.evaluate(validation_batches, steps = validation_steps)"
   ]
  },
  {
   "cell_type": "code",
   "execution_count": 22,
   "metadata": {
    "colab": {
     "base_uri": "https://localhost:8080/",
     "height": 51
    },
    "colab_type": "code",
    "id": "8cYT1c48CuSd",
    "outputId": "8026556e-51c9-4173-c5de-e4e0df821e31"
   },
   "outputs": [
    {
     "name": "stdout",
     "output_type": "stream",
     "text": [
      "initial loss: 3.00\n",
      "initial accuracy: 0.05\n"
     ]
    }
   ],
   "source": [
    "print(\"initial loss: {:.2f}\".format(loss0))\n",
    "print(\"initial accuracy: {:.2f}\".format(accuracy0))"
   ]
  },
  {
   "cell_type": "code",
   "execution_count": null,
   "metadata": {
    "colab": {
     "base_uri": "https://localhost:8080/",
     "height": 357
    },
    "colab_type": "code",
    "id": "JsaRFlZ9B6WK",
    "outputId": "9d5c9af0-c756-410f-e203-68c869be6801"
   },
   "outputs": [],
   "source": [
    "history = model.fit(train_batches,\n",
    "                    epochs=initial_epochs,\n",
    "                    validation_data=validation_batches)"
   ]
  },
  {
   "cell_type": "code",
   "execution_count": null,
   "metadata": {
    "colab": {
     "base_uri": "https://localhost:8080/",
     "height": 512
    },
    "colab_type": "code",
    "id": "53OTCh3jnbwV",
    "outputId": "3e7ed689-c5ad-4cfd-8416-1a02e34ac953"
   },
   "outputs": [],
   "source": [
    "acc = history.history['accuracy']\n",
    "val_acc = history.history['val_accuracy']\n",
    "\n",
    "loss = history.history['loss']\n",
    "val_loss = history.history['val_loss']\n",
    "\n",
    "plt.figure(figsize=(8, 8))\n",
    "plt.subplot(2, 1, 1)\n",
    "plt.plot(acc, label='Training Accuracy')\n",
    "plt.plot(val_acc, label='Validation Accuracy')\n",
    "plt.legend(loc='lower right')\n",
    "plt.ylabel('Accuracy')\n",
    "plt.ylim([min(plt.ylim()),1])\n",
    "plt.title('Training and Validation Accuracy')\n",
    "\n",
    "plt.subplot(2, 1, 2)\n",
    "plt.plot(loss, label='Training Loss')\n",
    "plt.plot(val_loss, label='Validation Loss')\n",
    "plt.legend(loc='upper right')\n",
    "plt.ylabel('Cross Entropy')\n",
    "plt.ylim([0,1.0])\n",
    "plt.title('Training and Validation Loss')\n",
    "plt.xlabel('epoch')\n",
    "plt.show()"
   ]
  },
  {
   "cell_type": "markdown",
   "metadata": {
    "colab_type": "text",
    "id": "CPXnzUK0QonF"
   },
   "source": [
    "### Un-freeze the top layers of the model\n"
   ]
  },
  {
   "cell_type": "markdown",
   "metadata": {
    "colab_type": "text",
    "id": "rfxv_ifotQak"
   },
   "source": [
    "All you need to do is unfreeze the `base_model` and set the bottom layers be un-trainable. Then, you should recompile the model (necessary for these changes to take effect), and resume training."
   ]
  },
  {
   "cell_type": "code",
   "execution_count": 16,
   "metadata": {},
   "outputs": [],
   "source": [
    "IMG_SHAPE = (IMG_SIZE, IMG_SIZE, 3)\n",
    "\n",
    "# Create the base model from the pre-trained model MobileNet V2\n",
    "base_model = tf.keras.applications.VGG16(input_shape=IMG_SHAPE,\n",
    "                                               include_top=False,\n",
    "                                               weights='imagenet')"
   ]
  },
  {
   "cell_type": "code",
   "execution_count": 23,
   "metadata": {
    "colab": {},
    "colab_type": "code",
    "id": "4nzcagVitLQm"
   },
   "outputs": [],
   "source": [
    "base_model.trainable = False"
   ]
  },
  {
   "cell_type": "code",
   "execution_count": 24,
   "metadata": {
    "colab": {
     "base_uri": "https://localhost:8080/",
     "height": 34
    },
    "colab_type": "code",
    "id": "-4HgVAacRs5v",
    "outputId": "9ce5967c-8d22-45bd-84ff-c34ef57c1ec1"
   },
   "outputs": [
    {
     "name": "stdout",
     "output_type": "stream",
     "text": [
      "Number of layers in the base model:  19\n"
     ]
    }
   ],
   "source": [
    "# Let's take a look to see how many layers are in the base model\n",
    "print(\"Number of layers in the base model: \", len(base_model.layers))\n",
    "\n",
    "# # Fine tune from this layer onwards\n",
    "# # fine_tune_at = 100\n",
    "# fine_tune_last_layers = 4\n",
    "\n",
    "# # Unfreeze all the layers before the `fine_tune_at` layer\n",
    "# for layer in base_model.layers[:-fine_tune_last_layers]:\n",
    "#   print(\"Setting\", layer, \"to non-trainable\")\n",
    "#   layer.trainable = False\n",
    "# print(base_model.summary())"
   ]
  },
  {
   "cell_type": "markdown",
   "metadata": {
    "colab_type": "text",
    "id": "4Uk1dgsxT0IS"
   },
   "source": [
    "### Compile the model\n",
    "\n",
    "Compile the model using a much lower training rate."
   ]
  },
  {
   "cell_type": "code",
   "execution_count": 30,
   "metadata": {
    "colab": {},
    "colab_type": "code",
    "id": "NtUnaz0WUDva"
   },
   "outputs": [],
   "source": [
    "NUM_OF_CLASSES = metadata.features[\"label\"].num_classes\n",
    "# print(NUM_OF_CLASSES)\n",
    "model = tf.keras.Sequential([\n",
    "    base_model,  \n",
    "#     *pretrained_top,\n",
    "#     keras.layers.MaxPool2D(),\n",
    "    # Passing it to a Fully Connected layer\n",
    "    keras.layers.Flatten(),\n",
    "    # 1st Fully Connected Layer\n",
    "    keras.layers.Dense(4096),\n",
    "    keras.layers.Activation('relu'),\n",
    "    # Add Dropout to prevent overfitting\n",
    "    keras.layers.Dropout(0.4),\n",
    "\n",
    "    # 2nd Fully Connected Layer\n",
    "    keras.layers.Dense(4096),\n",
    "    keras.layers.Activation('relu'),\n",
    "    # Add Dropout\n",
    "    keras.layers.Dropout(0.4),\n",
    "\n",
    "    # 3rd Fully Connected Layer\n",
    "    keras.layers.Dense(NUM_OF_CLASSES),\n",
    "    keras.layers.Activation('relu'),\n",
    "    # Add Dropout\n",
    "    keras.layers.Dropout(0.4),\n",
    "\n",
    "    # Output Layer\n",
    "    keras.layers.Dense(NUM_OF_CLASSES),\n",
    "    keras.layers.Activation('softmax'),\n",
    "])\n",
    "\n",
    "# base_learning_rate = 0.01\n",
    "# learning_rate = 0.0001\n",
    "epochs = 50\n",
    "# decay_rate = learning_rate / epochs\n",
    "# momentum = 0.9\n",
    "learning_rate = 0.1\n",
    "decay_rate = learning_rate / epochs\n",
    "momentum = 0.9\n",
    "optimizer = keras.optimizers.SGD(lr=learning_rate, momentum=momentum, decay=decay_rate, nesterov=True)\n",
    "# optimizer = keras.optimizers.Adam(lr=learning_rate)\n",
    "\n",
    "model.compile(loss='sparse_categorical_crossentropy',\n",
    "              optimizer=optimizer,\n",
    "#               optimizer = tf.keras.optimizers.Adam(lr=base_learning_rate/10),\n",
    "              metrics=['accuracy'])"
   ]
  },
  {
   "cell_type": "code",
   "execution_count": 31,
   "metadata": {
    "colab": {
     "base_uri": "https://localhost:8080/",
     "height": 255
    },
    "colab_type": "code",
    "id": "WwBWy7J2kZvA",
    "outputId": "d7bab642-9e06-4790-aacb-20e6924079a3"
   },
   "outputs": [
    {
     "name": "stdout",
     "output_type": "stream",
     "text": [
      "Model: \"sequential_3\"\n",
      "_________________________________________________________________\n",
      "Layer (type)                 Output Shape              Param #   \n",
      "=================================================================\n",
      "vgg16 (Model)                (None, 3, 3, 512)         14714688  \n",
      "_________________________________________________________________\n",
      "flatten_3 (Flatten)          (None, 4608)              0         \n",
      "_________________________________________________________________\n",
      "dense_12 (Dense)             (None, 4096)              18878464  \n",
      "_________________________________________________________________\n",
      "activation_12 (Activation)   (None, 4096)              0         \n",
      "_________________________________________________________________\n",
      "dropout_9 (Dropout)          (None, 4096)              0         \n",
      "_________________________________________________________________\n",
      "dense_13 (Dense)             (None, 4096)              16781312  \n",
      "_________________________________________________________________\n",
      "activation_13 (Activation)   (None, 4096)              0         \n",
      "_________________________________________________________________\n",
      "dropout_10 (Dropout)         (None, 4096)              0         \n",
      "_________________________________________________________________\n",
      "dense_14 (Dense)             (None, 20)                81940     \n",
      "_________________________________________________________________\n",
      "activation_14 (Activation)   (None, 20)                0         \n",
      "_________________________________________________________________\n",
      "dropout_11 (Dropout)         (None, 20)                0         \n",
      "_________________________________________________________________\n",
      "dense_15 (Dense)             (None, 20)                420       \n",
      "_________________________________________________________________\n",
      "activation_15 (Activation)   (None, 20)                0         \n",
      "=================================================================\n",
      "Total params: 50,456,824\n",
      "Trainable params: 35,742,136\n",
      "Non-trainable params: 14,714,688\n",
      "_________________________________________________________________\n"
     ]
    }
   ],
   "source": [
    "model.summary()"
   ]
  },
  {
   "cell_type": "code",
   "execution_count": 32,
   "metadata": {
    "colab": {
     "base_uri": "https://localhost:8080/",
     "height": 34
    },
    "colab_type": "code",
    "id": "bNXelbMQtonr",
    "outputId": "1d7df962-139b-4e25-8367-4533680b79ce"
   },
   "outputs": [
    {
     "data": {
      "text/plain": [
       "8"
      ]
     },
     "execution_count": 32,
     "metadata": {},
     "output_type": "execute_result"
    }
   ],
   "source": [
    "len(model.trainable_variables)"
   ]
  },
  {
   "cell_type": "markdown",
   "metadata": {
    "colab_type": "text",
    "id": "4G5O4jd6TuAG"
   },
   "source": [
    "### Continue Train the model"
   ]
  },
  {
   "cell_type": "markdown",
   "metadata": {
    "colab_type": "text",
    "id": "0foWUN-yDLo_"
   },
   "source": [
    "If you trained to convergence earlier, this will get you a few percent more accuracy."
   ]
  },
  {
   "cell_type": "code",
   "execution_count": null,
   "metadata": {
    "colab": {
     "base_uri": "https://localhost:8080/",
     "height": 357
    },
    "colab_type": "code",
    "id": "ECQLkAsFTlun",
    "outputId": "4532df99-0c58-4321-baeb-7b6a2432c4fa"
   },
   "outputs": [],
   "source": [
    "fine_tune_epochs = 50\n",
    "initial_epochs = 0\n",
    "total_epochs =  initial_epochs + fine_tune_epochs\n",
    "\n",
    "early_stopping_callback = keras.callbacks.EarlyStopping(monitor='val_loss', patience=10)\n",
    "checkpoint_callback = keras.callbacks.ModelCheckpoint('vfr_model_fine.h5', monitor='val_loss', verbose=1, save_best_only=True, mode='min')\n",
    "\n",
    "history_fine = model.fit(train_batches,\n",
    "                         epochs=total_epochs,\n",
    "                         initial_epoch = initial_epochs,\n",
    "                         validation_data=validation_batches,\n",
    "                         callbacks=[early_stopping_callback, checkpoint_callback])\n"
   ]
  },
  {
   "cell_type": "markdown",
   "metadata": {
    "colab_type": "text",
    "id": "TfXEmsxQf6eP"
   },
   "source": [
    "Let's take a look at the learning curves of the training and validation accuracy/loss, when fine tuning the last few layers of the MobileNet V2 base model and training the classifier on top of it. The validation loss is much higher than the training loss, so you may get some overfitting.\n",
    "\n",
    "You may also get some overfitting as the new training set is relatively small and similar to the original MobileNet V2 datasets.\n"
   ]
  },
  {
   "cell_type": "markdown",
   "metadata": {
    "colab_type": "text",
    "id": "DNtfNZKlInGT"
   },
   "source": [
    "After fine tuning the model nearly reaches 98% accuracy."
   ]
  },
  {
   "cell_type": "code",
   "execution_count": null,
   "metadata": {
    "colab": {},
    "colab_type": "code",
    "id": "PpA8PlpQKygw"
   },
   "outputs": [],
   "source": [
    "acc += history_fine.history['accuracy']\n",
    "val_acc += history_fine.history['val_accuracy']\n",
    "\n",
    "loss += history_fine.history['loss']\n",
    "val_loss += history_fine.history['val_loss']"
   ]
  },
  {
   "cell_type": "code",
   "execution_count": null,
   "metadata": {
    "colab": {
     "base_uri": "https://localhost:8080/",
     "height": 512
    },
    "colab_type": "code",
    "id": "chW103JUItdk",
    "outputId": "c681fe0e-a256-48e1-e9e1-8e6e4667e945"
   },
   "outputs": [],
   "source": [
    "plt.figure(figsize=(8, 8))\n",
    "plt.subplot(2, 1, 1)\n",
    "plt.plot(acc, label='Training Accuracy')\n",
    "plt.plot(val_acc, label='Validation Accuracy')\n",
    "plt.ylim([0.8, 1])\n",
    "plt.plot([initial_epochs-1,initial_epochs-1],\n",
    "          plt.ylim(), label='Start Fine Tuning')\n",
    "plt.legend(loc='lower right')\n",
    "plt.title('Training and Validation Accuracy')\n",
    "\n",
    "plt.subplot(2, 1, 2)\n",
    "plt.plot(loss, label='Training Loss')\n",
    "plt.plot(val_loss, label='Validation Loss')\n",
    "plt.ylim([0, 1.0])\n",
    "plt.plot([initial_epochs-1,initial_epochs-1],\n",
    "         plt.ylim(), label='Start Fine Tuning')\n",
    "plt.legend(loc='upper right')\n",
    "plt.title('Training and Validation Loss')\n",
    "plt.xlabel('epoch')\n",
    "plt.show()"
   ]
  }
 ],
 "metadata": {
  "accelerator": "GPU",
  "colab": {
   "collapsed_sections": [],
   "name": "transfer_learning.ipynb",
   "toc_visible": true,
   "version": "0.3.2"
  },
  "kernelspec": {
   "display_name": "Python 3.6.5 Conda (code)",
   "language": "python",
   "name": "conda-code"
  },
  "language_info": {
   "codemirror_mode": {
    "name": "ipython",
    "version": 3
   },
   "file_extension": ".py",
   "mimetype": "text/x-python",
   "name": "python",
   "nbconvert_exporter": "python",
   "pygments_lexer": "ipython3",
   "version": "3.7.2"
  }
 },
 "nbformat": 4,
 "nbformat_minor": 2
}
